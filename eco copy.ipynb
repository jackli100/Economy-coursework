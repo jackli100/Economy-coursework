{
 "cells": [
  {
   "cell_type": "markdown",
   "metadata": {},
   "source": [
    "1. 确定基本的变量（即data sheet）"
   ]
  },
  {
   "cell_type": "code",
   "execution_count": 21,
   "metadata": {},
   "outputs": [],
   "source": [
    "# scheme O\n",
    "road_length__O = 5 # km\n",
    "average_speed__O = 22 # km/h\n",
    "AADT__O = 15000 # vehicles/day\n",
    "\n",
    "# scheme A\n",
    "road_length__A = 9 # km\n",
    "average_speed__A = 65 # km/h\n",
    "average_speed__A_O = 28 # km/h\n",
    "AADT__A = 13000 # vehicles/day\n",
    "AADT__A_O = 4000 # vehicles/day\n",
    "construction_cost__A = 90000000 # pounds\n",
    "maintainance_cost_A = 10000 # pounds/year\n",
    "\n",
    "# scheme B\n",
    "road_length_B = 11 # km\n",
    "average_speed__B = 65 # km/h\n",
    "average_speed__B_O = 28 # km/h\n",
    "AADT__B = 13500 # vehicles/day\n",
    "AADT__B_O = 3500 # vehicles/day\n",
    "construction_cost__B = 77000000 # pounds\n",
    "maintenance_cost__B = 10000 # pounds/year\n",
    "\n",
    "# low growth scenario\n",
    "growth_rate__low = 0.01 # per year\n",
    "\n",
    "# high growth scenario\n",
    "growth_rate__high = 0.02 # per year\n"
   ]
  },
  {
   "cell_type": "markdown",
   "metadata": {},
   "source": [
    "计算不同年份的AADT，存储成一个字典"
   ]
  },
  {
   "cell_type": "code",
   "execution_count": 22,
   "metadata": {},
   "outputs": [
    {
     "name": "stdout",
     "output_type": "stream",
     "text": [
      "18302.850599219506\n"
     ]
    }
   ],
   "source": [
    "def calculate_aadt(initial_aadt, growth_rate_low, growth_rate_high, start_year, end_year, change_years, is_special_case=False):\n",
    "    aadt_dict_low = {}\n",
    "    aadt_dict_high = {}\n",
    "    for year in range(start_year, end_year + 1):\n",
    "        if year - start_year < change_years:\n",
    "            growth_years = year - start_year\n",
    "        else:\n",
    "            growth_years = change_years - 1\n",
    "        if is_special_case:\n",
    "            aadt_dict_low[year] = initial_aadt * (1 + growth_rate_low) ** (growth_years + 1)\n",
    "            aadt_dict_high[year] = initial_aadt * (1 + growth_rate_high) ** (growth_years +1)\n",
    "        else:\n",
    "            aadt_dict_low[year] = initial_aadt * (1 + growth_rate_low) ** growth_years\n",
    "            aadt_dict_high[year] = initial_aadt * (1 + growth_rate_high) ** growth_years    \n",
    "    \n",
    "    return aadt_dict_low, aadt_dict_high\n",
    "\n",
    "# 现在，你可以使用这个函数来替代原有的重复代码\n",
    "# 例如，对于AADT__O的计算：\n",
    "AADT__O_dict_low, AADT__O_dict_high = calculate_aadt(AADT__O, growth_rate__low, growth_rate__high, 2031, 2090, 20, True)\n",
    "AADT__A_dict_low, AADT__A_dict_high = calculate_aadt(AADT__A, growth_rate__low, growth_rate__high, 2031, 2090, 20)\n",
    "AADT__A_O_dict_low, AADT__A_O_dict_high = calculate_aadt(AADT__A_O, growth_rate__low, growth_rate__high, 2031, 2090, 20)\n",
    "AADT__B_dict_low, AADT__B_dict_high = calculate_aadt(AADT__B, growth_rate__low, growth_rate__high, 2031, 2090, 20)\n",
    "AADT__B_O_dict_low, AADT__B_O_dict_high = calculate_aadt(AADT__B_O, growth_rate__low, growth_rate__high, 2031, 2090, 20)\n",
    "\n",
    "print(AADT__O_dict_low[2090])"
   ]
  },
  {
   "cell_type": "markdown",
   "metadata": {},
   "source": [
    "计算GC中旅行时间节省的部分；\n",
    "这里工作和非工作的数值是一致的，故不区分"
   ]
  },
  {
   "cell_type": "code",
   "execution_count": 23,
   "metadata": {},
   "outputs": [
    {
     "data": {
      "text/plain": [
       "6.945639388876915"
      ]
     },
     "execution_count": 23,
     "metadata": {},
     "output_type": "execute_result"
    }
   ],
   "source": [
    "the_all_week_value_of_time_for_an_average_car = 10.79 # pounds/h\n",
    "the_coefficient_of_converting_time_to_2030 = 1.5893 # using the GDP deflator\n",
    "Income_growth_previous_efficiency = 125.57 / 104.88 # using the annual parameters in WebTAG\n",
    "the_value_of_time_2030 = the_all_week_value_of_time_for_an_average_car * the_coefficient_of_converting_time_to_2030 * Income_growth_previous_efficiency\n",
    "long_term_growth_rate = 0.015\n",
    "\n",
    "# 定义计算旅行时间价值的函数\n",
    "def calculate_value_of_time(start_year, end_year, initial_value, growth_rate):\n",
    "    value_of_time_dict = {}\n",
    "    for year in range(start_year, end_year + 1):\n",
    "        value_of_time_dict[year] = initial_value * (1 + growth_rate) ** (year - start_year + 1)\n",
    "    return value_of_time_dict\n",
    "\n",
    "# 定义计算旅行时间感知成本的函数\n",
    "def calculate_journey_time_cost(value_of_time_dict, road_length, average_speed):\n",
    "    journey_time_cost = {}\n",
    "    for year, value_of_time in value_of_time_dict.items():\n",
    "        journey_time_cost[year] = value_of_time * road_length / average_speed\n",
    "    return journey_time_cost\n",
    "\n",
    "# 计算2031年到2090年每年的旅行时间价值\n",
    "the_value_of_time_dict = calculate_value_of_time(2031, 2091, the_value_of_time_2030, long_term_growth_rate)\n",
    "\n",
    "# 使用计算旅行时间感知成本的函数计算不同路线的成本\n",
    "GC_for_journey_time_O = calculate_journey_time_cost(the_value_of_time_dict, road_length__O, average_speed__O)\n",
    "GC_for_journey_time_A = calculate_journey_time_cost(the_value_of_time_dict, road_length__A, average_speed__A)\n",
    "GC_for_journey_time_A_O = calculate_journey_time_cost(the_value_of_time_dict, road_length__O, average_speed__A_O)\n",
    "GC_for_journey_time_B = calculate_journey_time_cost(the_value_of_time_dict, road_length_B, average_speed__B)\n",
    "GC_for_journey_time_B_O = calculate_journey_time_cost(the_value_of_time_dict, road_length__O, average_speed__B_O)\n",
    "\n",
    "GC_for_journey_time_A[2090]"
   ]
  },
  {
   "cell_type": "markdown",
   "metadata": {},
   "source": [
    "计算GC中的燃料成本和非燃料成本，注意非工作非燃料成本不用半数法(先不考虑)，而非工作燃料成本其实等于工作燃料成本"
   ]
  },
  {
   "cell_type": "code",
   "execution_count": 24,
   "metadata": {},
   "outputs": [
    {
     "data": {
      "text/plain": [
       "33.22273362004345"
      ]
     },
     "execution_count": 24,
     "metadata": {},
     "output_type": "execute_result"
    }
   ],
   "source": [
    "import csv\n",
    "\n",
    "# 初始化字典\n",
    "data_dict = {}\n",
    "\n",
    "with open('voc.csv', mode='r', encoding='utf-8') as file:\n",
    "    reader = csv.reader(file)\n",
    "    next(reader)  # 跳过标题行\n",
    "    for row in reader:\n",
    "        year = int(row[0])\n",
    "        data_dict[year] = {\n",
    "            'fuel_price_per_kwh': float(row[1]),\n",
    "            'fuel_efficiency': float(row[2]),\n",
    "            'emission_factor': float(row[3]),\n",
    "            'money_value_of_emission': float(row[4]),\n",
    "            'petrol_fuel_price_65': float(row[5]),\n",
    "            'petrol_fuel_price_28': float(row[6]),\n",
    "            'petrol_fuel_price_22': float(row[7]),\n",
    "            'non_work_petrol_fuel_price_65': float(row[8]),\n",
    "            'non_work_petrol_fuel_price_28': float(row[9]),\n",
    "            'non_work_petrol_fuel_price_22': float(row[10]),\n",
    "        }\n",
    "\n",
    "def calculate_fuel_cost(year, road_length):\n",
    "    return data_dict[year]['fuel_price_per_kwh'] * data_dict[year]['fuel_efficiency'] * road_length * 1.5893 \n",
    "\n",
    "def get_non_fuel_efficiency(type, velocity):\n",
    "    # 1代表work, 2代表non-work\n",
    "    return 1.157 + (135.946 / velocity if type == '1' else 0)\n",
    "\n",
    "def calculate_non_fuel_cost(velocity, road_length, type):\n",
    "    return get_non_fuel_efficiency(type, velocity) * road_length * 1.5893\n",
    "\n",
    "\n",
    "GC_for_fuel_cost_O = {}\n",
    "GC_for_fuel_cost_A = {}\n",
    "GC_for_fuel_cost_B = {}\n",
    "GC_for_fuel_cost_A_O = {}\n",
    "GC_for_fuel_cost_B_O = {}\n",
    "\n",
    "# 以“O”路线的计算为例，其他路线类似\n",
    "for year in range(2031, 2091):\n",
    "    GC_for_fuel_cost_A[year] = calculate_fuel_cost(year, road_length__A)\n",
    "\n",
    "\n",
    "GC_for_non_fuel_work_O = calculate_non_fuel_cost(average_speed__O, road_length__O, '1')\n",
    "GC_for_non_fuel_work_A = calculate_non_fuel_cost(average_speed__A, road_length__A, '1')\n",
    "GC_for_non_fuel_work_A_O = calculate_non_fuel_cost(average_speed__A_O, road_length__O, '1')\n",
    "GC_for_non_fuel_work_B = calculate_non_fuel_cost(average_speed__B, road_length_B, '1')\n",
    "GC_for_non_fuel_work_B_O = calculate_non_fuel_cost(average_speed__B_O, road_length__O, '1')\n",
    "\n",
    "GC_O_work = {}\n",
    "GC_A_work = {}\n",
    "GC_A_O_work = {}\n",
    "GC_B_work = {}\n",
    "GC_B_O_work = {}\n",
    "\n",
    "for year in range(2031, 2091):\n",
    "    GC_A_work[year] = GC_for_journey_time_A[year] + GC_for_fuel_cost_A[year] / 100 + GC_for_non_fuel_work_A / 100\n",
    "    \n",
    "GC_for_fuel_cost_A[2090]\n",
    "\n",
    "    "
   ]
  },
  {
   "cell_type": "code",
   "execution_count": 25,
   "metadata": {},
   "outputs": [
    {
     "data": {
      "text/plain": [
       "16.5493809"
      ]
     },
     "execution_count": 25,
     "metadata": {},
     "output_type": "execute_result"
    }
   ],
   "source": [
    "import csv\n",
    "\n",
    "# 初始化字典\n",
    "fuel_price_per_kwh = {}\n",
    "fuel_effieciency = {}\n",
    "emission_factor = {}\n",
    "money_value_of_emission = {}\n",
    "petrol_fuel_price_65 = {}\n",
    "petrol_fuel_price_28 = {}\n",
    "petrol_fuel_price_22 = {}\n",
    "non_work_petrol_fuel_price_65 = {} \n",
    "non_work_petrol_fuel_price_28 = {}\n",
    "non_work_petrol_fuel_price_22 = {}\n",
    "\n",
    "with open('voc.csv', mode='r', encoding='utf-8') as file:\n",
    "    reader = csv.reader(file)\n",
    "    next(reader)  # 跳过标题行\n",
    "    for rows in reader:\n",
    "        year = int(rows[0])\n",
    "        fuel_price_per_kwh[year] = float(rows[1])\n",
    "        fuel_effieciency[year] = float(rows[2])\n",
    "        emission_factor[year] = float(rows[3])\n",
    "        money_value_of_emission[year] = float(rows[4])\n",
    "        petrol_fuel_price_65[year] = float(rows[5])\n",
    "        petrol_fuel_price_28[year] = float(rows[6])\n",
    "        petrol_fuel_price_22[year] = float(rows[7])\n",
    "        non_work_petrol_fuel_price_65[year] = float(rows[8])\n",
    "        non_work_petrol_fuel_price_28[year] = float(rows[9])\n",
    "        non_work_petrol_fuel_price_22[year] = float(rows[10])\n",
    "\n",
    "GC_for_fuel_cost_O = {} \n",
    "GC_for_fuel_cost_A = {}\n",
    "GC_for_fuel_cost_B = {}\n",
    "\n",
    "for year in range(2031, 2091):\n",
    "    GC_for_fuel_cost_O[year] = fuel_price_per_kwh[year] * fuel_effieciency[year] * road_length__O * 1.5893\n",
    "    GC_for_fuel_cost_A[year] = fuel_price_per_kwh[year] * fuel_effieciency[year] * road_length__A * 1.5893\n",
    "    GC_for_fuel_cost_B[year] = fuel_price_per_kwh[year] * fuel_effieciency[year] * road_length_B * 1.5893\n",
    "\n",
    "def get_non_fuel_efficiency(type, velocity):\n",
    "    if type == '1':\n",
    "        return 1.157 + 135.946 / velocity\n",
    "    elif type == '0':\n",
    "        return 1.157 \n",
    "\n",
    "GC_for_non_fuel_non_Work_O = get_non_fuel_efficiency('0', average_speed__O) * road_length__O * 1.5893\n",
    "GC_for_non_fuel_non_Work_A = get_non_fuel_efficiency('0', average_speed__A) * road_length__A * 1.5893\n",
    "GC_for_non_fuel_non_Work_A_O = get_non_fuel_efficiency('0', average_speed__A_O) * road_length__O * 1.5893\n",
    "GC_for_non_fuel_non_Work_B = get_non_fuel_efficiency('0', average_speed__B) * road_length_B * 1.5893\n",
    "GC_for_non_fuel_non_Work_B_O = get_non_fuel_efficiency('0', average_speed__B_O) * road_length__O * 1.5893\n",
    "GC_for_non_fuel_work_O = get_non_fuel_efficiency('1', average_speed__O) * road_length__O* 1.5893\n",
    "GC_for_non_fuel_work_A = get_non_fuel_efficiency('1', average_speed__A) * road_length__A * 1.5893\n",
    "GC_for_non_fuel_work_A_O = get_non_fuel_efficiency('1', average_speed__A_O) * road_length__O * 1.5893\n",
    "GC_for_non_fuel_work_B = get_non_fuel_efficiency('1', average_speed__B) * road_length_B * 1.5893\n",
    "GC_for_non_fuel_work_B_O = get_non_fuel_efficiency('1', average_speed__B_O) * road_length__O * 1.5893\n",
    "\n",
    "GC_O_work = {}\n",
    "GC_A_work = {}\n",
    "GC_A_O_work = {}\n",
    "GC_B_work = {}\n",
    "GC_B_O_work = {}\n",
    "\n",
    "for year in range(2031, 2091):\n",
    "    GC_O_work[year] = GC_for_journey_time_O[year] + GC_for_fuel_cost_O[year] / 100 + GC_for_non_fuel_work_O /100\n",
    "    GC_A_work[year] = GC_for_journey_time_A[year] + GC_for_fuel_cost_A[year] / 100 + GC_for_non_fuel_work_A /100\n",
    "    GC_A_O_work[year] = GC_for_journey_time_A_O[year] + GC_for_fuel_cost_A[year] / 100 + GC_for_non_fuel_work_A_O /100\n",
    "    GC_B_work[year] = GC_for_journey_time_B[year] + GC_for_fuel_cost_B[year] / 100 + GC_for_non_fuel_work_B /100\n",
    "    GC_B_O_work[year] = GC_for_journey_time_B_O[year] + GC_for_fuel_cost_B[year]/100 + GC_for_non_fuel_work_B_O/100\n",
    "\n",
    "GC_for_non_fuel_non_Work_A\n",
    "    \n",
    "\n",
    "\n"
   ]
  },
  {
   "cell_type": "markdown",
   "metadata": {},
   "source": [
    "先只计算工作部分, 计算结果以英镑为单位"
   ]
  },
  {
   "cell_type": "code",
   "execution_count": 26,
   "metadata": {},
   "outputs": [],
   "source": [
    "# 根据ROH的公式计算user benefit\n",
    "def get_ROH(GC_new, GC_new_old, GC_old, AADT_new, AADT_new_old, AADT_old, ratio):\n",
    "    '''\n",
    "    GC_new: GC_A(B)\n",
    "    GC_new_old: GC_A(B)_O\n",
    "    GC_old: GC_O\n",
    "    AADT_new: AADT_A(B)\n",
    "    AADT_new_old: AADT_A(B)_O\n",
    "    AADT_old: AADT_O\n",
    "    '''\n",
    "    GC_average = (GC_new * AADT_new + GC_new_old * AADT_new_old) / (AADT_new + AADT_new_old)\n",
    "    return (GC_old - GC_average) * (AADT_new + AADT_new_old + AADT_old) / 2 * 365.25\n",
    "\n",
    "user_benefit_A_work_low = {}\n",
    "user_benefit_A_work_high = {}\n",
    "user_benefit_B_work_low = {}\n",
    "user_benefit_B_work_high = {}\n",
    "\n",
    "\n",
    "for year in range(2031, 2091):\n",
    "    user_benefit_A_work_low[year] = get_ROH(GC_A_work[year], GC_A_O_work[year], GC_O_work[year], 0.053 * AADT__A_dict_low[year], 0.053 * AADT__A_O_dict_low[year], 0.053 * AADT__O_dict_low[year])\n",
    "    user_benefit_A_work_high[year] = get_ROH(GC_A_work[year], GC_A_O_work[year], GC_O_work[year], 0.053 * AADT__A_dict_high[year], 0.053 * AADT__A_O_dict_high[year], 0.053 * AADT__O_dict_high[year])\n",
    "    user_benefit_B_work_low[year] = get_ROH(GC_B_work[year], GC_B_O_work[year], GC_O_work[year], 0.053 * AADT__B_dict_low[year], 0.053 * AADT__B_O_dict_low[year], 0.053 * AADT__O_dict_low[year])\n",
    "    user_benefit_B_work_high[year] = get_ROH(GC_B_work[year], GC_B_O_work[year], GC_O_work[year], 0.053 * AADT__B_dict_high[year], 0.053 * AADT__B_O_dict_high[year], 0.053 * AADT__O_dict_high[year])\n",
    "\n"
   ]
  },
  {
   "cell_type": "markdown",
   "metadata": {},
   "source": [
    "下面这部分考虑的是将未来收益折现到2030年"
   ]
  },
  {
   "cell_type": "code",
   "execution_count": 27,
   "metadata": {},
   "outputs": [
    {
     "name": "stdout",
     "output_type": "stream",
     "text": [
      "14224945.19950175\n"
     ]
    }
   ],
   "source": [
    "def discount_to_2030(values, end_year):\n",
    "    \"\"\"\n",
    "    对给定的每年收益按年折现到2030年。\n",
    "    对于距2030年30年内的年份使用3.5%的折现率，超过30年的部分使用3%的折现率。\n",
    "    \n",
    "    参数:\n",
    "    values: 一个字典，键为年份，值为那一年的收益。\n",
    "    \n",
    "    返回:\n",
    "    2030年的折现总值。\n",
    "    \"\"\"\n",
    "    discount_value = 0  # 初始化折现后的总值\n",
    "    for year, value in values.items():\n",
    "        if year > end_year:\n",
    "            continue\n",
    "\n",
    "        years_diff = year - 2030  # 计算与2030年的年差\n",
    "        if years_diff <= 30:\n",
    "            # 对于30年及以内的部分，使用3.5%的折现率\n",
    "            discount_factor = (1 + 0.035) ** years_diff\n",
    "        else:\n",
    "            # 对于超过30年的部分，前30年使用3.5%，之后使用3%\n",
    "            discount_factor_30 = (1 + 0.035) ** 30\n",
    "            discount_factor_after_30 = (1 + 0.03) ** (years_diff - 30)\n",
    "            discount_factor = discount_factor_30 * discount_factor_after_30\n",
    "        \n",
    "        discount_value += value / discount_factor  # 将该年的收益折现到2030年的价值，并累加到总值中\n",
    "    \n",
    "    return discount_value\n",
    "\n",
    "print(discount_to_2030(user_benefit_A_work_high, 2060))"
   ]
  },
  {
   "cell_type": "markdown",
   "metadata": {},
   "source": [
    "下面考虑将非工作燃料成本的ROH"
   ]
  },
  {
   "cell_type": "code",
   "execution_count": 28,
   "metadata": {},
   "outputs": [],
   "source": [
    "GC_O_non_work_fuel = {}\n",
    "GC_A_non_work_fuel = {}\n",
    "GC_A_O_non_work_fuel = {}\n",
    "GC_B_non_work_fuel = {}\n",
    "GC_B_O_non_work_fuel = {}\n",
    "\n",
    "for year in range(2031, 2091):\n",
    "    GC_O_non_work_fuel[year] = GC_for_journey_time_O[year] + GC_for_fuel_cost_O[year] / 100\n",
    "    GC_A_non_work_fuel[year] = GC_for_journey_time_A[year] + GC_for_fuel_cost_A[year] / 100\n",
    "    GC_A_O_non_work_fuel[year] = GC_for_journey_time_A_O[year] + GC_for_fuel_cost_A[year] / 100\n",
    "    GC_B_non_work_fuel[year] = GC_for_journey_time_B[year] + GC_for_fuel_cost_B[year] / 100\n",
    "    GC_B_O_non_work_fuel[year] = GC_for_journey_time_B_O[year] + GC_for_fuel_cost_B[year] / 100\n",
    "\n",
    "user_benefit_A_non_work_low = {}\n",
    "user_benefit_A_non_work_high = {}\n",
    "user_benefit_B_non_work_low = {}\n",
    "user_benefit_B_non_work_high = {}\n",
    "\n",
    "for year in range(2031, 2091):\n",
    "    user_benefit_A_non_work_low[year] = get_ROH(GC_A_non_work_fuel[year], GC_A_O_non_work_fuel[year], GC_O_non_work_fuel[year], 0.947 * AADT__A_dict_low[year], 0.947 * AADT__A_O_dict_low[year], 0.947 * AADT__O_dict_low[year])\n",
    "    user_benefit_A_non_work_high[year] = get_ROH(GC_A_non_work_fuel[year], GC_A_O_non_work_fuel[year], GC_O_non_work_fuel[year], 0.947 * AADT__A_dict_high[year], 0.947 * AADT__A_O_dict_high[year], 0.947 * AADT__O_dict_high[year])\n",
    "    user_benefit_B_non_work_low[year] = get_ROH(GC_B_non_work_fuel[year], GC_B_O_non_work_fuel[year], GC_O_non_work_fuel[year], 0.947 * AADT__B_dict_low[year], 0.947 * AADT__B_O_dict_low[year], 0.947 * AADT__O_dict_low[year])\n",
    "    user_benefit_B_non_work_high[year] = get_ROH(GC_B_non_work_fuel[year], GC_B_O_non_work_fuel[year], GC_O_non_work_fuel[year], 0.947 * AADT__B_dict_high[year], 0.947 * AADT__B_O_dict_high[year], 0.947 * AADT__O_dict_high[year])\n",
    "    \n",
    "    "
   ]
  },
  {
   "cell_type": "markdown",
   "metadata": {},
   "source": [
    "下面计算非工作非燃料的净收益"
   ]
  },
  {
   "cell_type": "code",
   "execution_count": 29,
   "metadata": {},
   "outputs": [],
   "source": [
    "user_benefit_non_work_non_fuel_A_low = {}\n",
    "user_benefit_non_work_non_fuel_A_high = {}\n",
    "user_benefit_non_work_non_fuel_B_low = {}\n",
    "user_benefit_non_work_non_fuel_B_high = {}\n",
    "\n",
    "for year in range(2031, 2091):\n",
    "    user_benefit_non_work_non_fuel_A_low[year] = (GC_for_non_fuel_non_Work_A / 100 *  0.947 * AADT__A_dict_low[year]  + GC_for_non_fuel_non_Work_A_O / 100 *  0.947 * AADT__A_O_dict_low[year] \\\n",
    "                                                - GC_for_non_fuel_non_Work_O / 100 *  0.947 * AADT__O_dict_low[year]) * 365.25 \n",
    "    user_benefit_non_work_non_fuel_B_low[year] = (GC_for_non_fuel_non_Work_B / 100 *  0.947 * AADT__B_dict_low[year]  + GC_for_non_fuel_non_Work_B_O / 100 *  0.947 * AADT__B_O_dict_low[year] \\\n",
    "                                                - GC_for_non_fuel_non_Work_O / 100 *  0.947 * AADT__O_dict_low[year]) * 365.25\n",
    "    user_benefit_non_work_non_fuel_A_high[year] = (GC_for_non_fuel_non_Work_A / 100 *  0.947 * AADT__A_dict_high[year]  + GC_for_non_fuel_non_Work_A_O / 100 *  0.947 * AADT__A_O_dict_high[year] \\\n",
    "                                                - GC_for_non_fuel_non_Work_O / 100 *  0.947 * AADT__O_dict_high[year]) * 365.25\n",
    "    user_benefit_non_work_non_fuel_B_high[year] = (GC_for_non_fuel_non_Work_B / 100 *  0.947 * AADT__B_dict_high[year]  + GC_for_non_fuel_non_Work_B_O / 100 *  0.947 * AADT__B_O_dict_high[year] \\\n",
    "                                                - GC_for_non_fuel_non_Work_O / 100 *  0.947 * AADT__O_dict_high[year]) * 365.25\n",
    "\n"
   ]
  },
  {
   "cell_type": "markdown",
   "metadata": {},
   "source": [
    "下面计算税收的损失，使用二分之一法则整合到前面计算的收益中（算作收益的损失而非成本）"
   ]
  },
  {
   "cell_type": "code",
   "execution_count": 30,
   "metadata": {},
   "outputs": [],
   "source": [
    "t = 0.19\n",
    "tf1 = 0\n",
    "tf = 0.05\n",
    "tn1 = 0\n",
    "tn = 0.19\n",
    "# formula in A.5\n",
    "def calculate_tax(type, ROH_fuel, ROH_non_fuel):\n",
    "    # 0 for non-work, 1 for work\n",
    "    if type == 1:\n",
    "        return ROH_fuel * tf1 * (1 + t) / (1 + tf1) + ROH_non_fuel * tn1 * (1 + t) / (1 + tn1)\n",
    "    elif type == 0:\n",
    "        return ROH_fuel * tf * (tf -t) / (1 + tf) + ROH_non_fuel * tn * (tn - t) / (1 + tn)\n",
    "    \n",
    "\n",
    "\n"
   ]
  },
  {
   "cell_type": "code",
   "execution_count": 34,
   "metadata": {},
   "outputs": [
    {
     "name": "stdout",
     "output_type": "stream",
     "text": [
      "0.3895032719381687 0.21639070663231588 0.21639070663231588 689.0 212.0 802.9499999999999\n",
      "-41194.581847909416\n"
     ]
    }
   ],
   "source": [
    "F_work_A_low = {}\n",
    "F_work_A_high = {}\n",
    "F_work_B_low = {}\n",
    "F_work_B_high = {}\n",
    "N_work_A_low ={}\n",
    "N_work_A_high = {}\n",
    "N_work_B_low = {}\n",
    "N_work_B_high = {}\n",
    "F_non_work_A_low = {}\n",
    "F_non_work_A_high = {}\n",
    "F_non_work_B_low = {}\n",
    "F_non_work_B_high = {}\n",
    "N_non_work_A_low = {}\n",
    "N_non_work_A_high = {}\n",
    "N_non_work_B_low = {}\n",
    "N_non_work_B_high = {}\n",
    "for year in range(2031, 2091):\n",
    "    F_work_A_low[year] = get_ROH(GC_for_fuel_cost_A[year]/100, GC_for_fuel_cost_O[year]/100, GC_for_fuel_cost_O[year]/100, 0.053 * AADT__A_dict_low[year], 0.053 * AADT__A_O_dict_low[year], 0.053 * AADT__O_dict_low[year])\n",
    "    F_work_A_high[year] = get_ROH(GC_for_fuel_cost_A[year], GC_for_fuel_cost_O[year], GC_for_fuel_cost_O[year], 0.053 * AADT__A_dict_high[year], 0.053 * AADT__A_O_dict_high[year], 0.053 * AADT__O_dict_high[year])\n",
    "    F_work_B_low[year] = get_ROH(GC_for_fuel_cost_B[year], GC_for_fuel_cost_O[year], GC_for_fuel_cost_O[year], 0.053 * AADT__B_dict_low[year], 0.053 * AADT__B_O_dict_low[year], 0.053 * AADT__O_dict_low[year])\n",
    "    F_work_B_high[year] = get_ROH(GC_for_fuel_cost_B[year], GC_for_fuel_cost_O[year], GC_for_fuel_cost_O[year], 0.053 * AADT__B_dict_high[year], 0.053 * AADT__B_O_dict_high[year], 0.053 * AADT__O_dict_high[year])\n",
    "    N_work_A_low[year] = get_ROH(GC_for_non_fuel_work_A, GC_for_non_fuel_work_A_O, GC_for_non_fuel_work_O, 0.053 * AADT__A_dict_low[year], 0.053 * AADT__A_O_dict_low[year], 0.053 * AADT__O_dict_low[year])\n",
    "    N_work_A_high[year] = get_ROH(GC_for_non_fuel_work_A, GC_for_non_fuel_work_A_O, GC_for_non_fuel_work_O, 0.053 * AADT__A_dict_high[year], 0.053 * AADT__A_O_dict_high[year], 0.053 * AADT__O_dict_high[year])\n",
    "    N_work_B_low[year] = get_ROH(GC_for_non_fuel_work_B, GC_for_non_fuel_work_B_O, GC_for_non_fuel_work_O, 0.053 * AADT__B_dict_low[year], 0.053 * AADT__B_O_dict_low[year], 0.053 * AADT__O_dict_low[year])\n",
    "    N_work_B_high[year] = get_ROH(GC_for_non_fuel_work_B, GC_for_non_fuel_work_B_O, GC_for_non_fuel_work_O, 0.053 * AADT__B_dict_high[year], 0.053 * AADT__B_O_dict_high[year], 0.053 * AADT__O_dict_high[year])\n",
    "    F_non_work_A_low[year] = get_ROH(GC_for_fuel_cost_A[year], GC_for_fuel_cost_O[year], GC_for_fuel_cost_O[year], 0.947 * AADT__A_dict_low[year], 0.947 * AADT__A_O_dict_low[year], 0.947 * AADT__O_dict_low[year])\n",
    "    F_non_work_A_high[year] = get_ROH(GC_for_fuel_cost_A[year], GC_for_fuel_cost_O[year], GC_for_fuel_cost_O[year], 0.947 * AADT__A_dict_high[year], 0.947 * AADT__A_O_dict_high[year], 0.947 * AADT__O_dict_high[year])\n",
    "    F_non_work_B_low[year] = get_ROH(GC_for_fuel_cost_B[year], GC_for_fuel_cost_O[year], GC_for_fuel_cost_O[year], 0.947 * AADT__B_dict_low[year], 0.947 * AADT__B_O_dict_low[year], 0.947 * AADT__O_dict_low[year])\n",
    "    F_non_work_B_high[year] = get_ROH(GC_for_fuel_cost_B[year], GC_for_fuel_cost_O[year], GC_for_fuel_cost_O[year], 0.947 * AADT__B_dict_high[year], 0.947 * AADT__B_O_dict_high[year], 0.947 * AADT__O_dict_high[year])\n",
    "    N_non_work_A_low[year] = get_ROH(GC_for_non_fuel_non_Work_A, GC_for_non_fuel_non_Work_A_O, GC_for_non_fuel_non_Work_O, 0.947 * AADT__A_dict_low[year], 0.947 * AADT__A_O_dict_low[year], 0.947 * AADT__O_dict_low[year])\n",
    "    N_non_work_A_high[year] = get_ROH(GC_for_non_fuel_non_Work_A, GC_for_non_fuel_non_Work_A_O, GC_for_non_fuel_non_Work_O, 0.947 * AADT__A_dict_high[year], 0.947 * AADT__A_O_dict_high[year], 0.947 * AADT__O_dict_high[year])\n",
    "    N_non_work_B_low[year] = get_ROH(GC_for_non_fuel_non_Work_B, GC_for_non_fuel_non_Work_B_O, GC_for_non_fuel_non_Work_O, 0.947 * AADT__B_dict_low[year], 0.947 * AADT__B_O_dict_low[year], 0.947 * AADT__O_dict_low[year])\n",
    "    N_non_work_B_high[year] = get_ROH(GC_for_non_fuel_non_Work_B, GC_for_non_fuel_non_Work_B_O, GC_for_non_fuel_non_Work_O, 0.947 * AADT__B_dict_high[year], 0.947 * AADT__B_O_dict_high[year], 0.947 * AADT__O_dict_high[year])\n",
    "print(GC_for_fuel_cost_A[2031]/100, GC_for_fuel_cost_O[2031]/100, GC_for_fuel_cost_O[2031]/100, 0.053 * AADT__A_dict_low[2031], 0.053 * AADT__A_O_dict_low[2031], 0.053 * AADT__O_dict_low[2031])\n",
    "print(F_work_A_low[2031])"
   ]
  },
  {
   "cell_type": "code",
   "execution_count": 1363,
   "metadata": {},
   "outputs": [
    {
     "name": "stdout",
     "output_type": "stream",
     "text": [
      "505653.8344063382\n"
     ]
    }
   ],
   "source": [
    "# 计算间接税\n",
    "indirect_tax_A_low = {}\n",
    "indirect_tax_A_high = {}\n",
    "indirect_tax_B_low = {}\n",
    "indirect_tax_B_high = {}\n",
    "for year in range(2031, 2091):\n",
    "    indirect_tax_A_low[year] = calculate_tax(1, F_work_A_low[year], N_work_A_low[year]) + calculate_tax(0, F_non_work_A_low[year], N_non_work_A_low[year])\n",
    "    indirect_tax_A_high[year] = calculate_tax(1, F_work_A_high[year], N_work_A_high[year]) + calculate_tax(0, F_non_work_A_high[year], N_non_work_A_high[year])\n",
    "    indirect_tax_B_low[year] = calculate_tax(1, F_work_B_low[year], N_work_B_low[year]) + calculate_tax(0, F_non_work_B_low[year], N_non_work_B_low[year])\n",
    "    indirect_tax_B_high[year] = calculate_tax(1, F_work_B_high[year], N_work_B_high[year]) + calculate_tax(0, F_non_work_B_high[year], N_non_work_B_high[year])\n",
    "\n",
    "print(indirect_tax_A_low[2090])"
   ]
  },
  {
   "cell_type": "markdown",
   "metadata": {},
   "source": [
    "下一步考虑温室气体效应，选用市场价格，仍然使用半数法算出效益；其实这里算作负效应还是正的支出，是一个值得讨论的话题；\n",
    "假如改成汽油车，这一项估计要爆表了……"
   ]
  },
  {
   "cell_type": "code",
   "execution_count": 19,
   "metadata": {},
   "outputs": [
    {
     "name": "stdout",
     "output_type": "stream",
     "text": [
      "0.00371226316503622\n",
      "0.071334973276352\n",
      "0.03242498785288728\n"
     ]
    },
    {
     "ename": "NameError",
     "evalue": "name 'get_ROH' is not defined",
     "output_type": "error",
     "traceback": [
      "\u001b[1;31m---------------------------------------------------------------------------\u001b[0m",
      "\u001b[1;31mNameError\u001b[0m                                 Traceback (most recent call last)",
      "Cell \u001b[1;32mIn[19], line 17\u001b[0m\n\u001b[0;32m     15\u001b[0m user_benefit_B_emission_high \u001b[38;5;241m=\u001b[39m {}\n\u001b[0;32m     16\u001b[0m \u001b[38;5;28;01mfor\u001b[39;00m year \u001b[38;5;129;01min\u001b[39;00m \u001b[38;5;28mrange\u001b[39m(\u001b[38;5;241m2031\u001b[39m, \u001b[38;5;241m2091\u001b[39m):\n\u001b[1;32m---> 17\u001b[0m     user_benefit_A_emission_low[year] \u001b[38;5;241m=\u001b[39m \u001b[43mget_ROH\u001b[49m(GC_emission_A[year], GC_emission_O[year], GC_emission_O[year],  AADT__A_dict_low[year],  AADT__A_O_dict_low[year],  AADT__O_dict_low[year])\n\u001b[0;32m     18\u001b[0m     user_benefit_A_emission_high[year] \u001b[38;5;241m=\u001b[39m get_ROH(GC_emission_A[year], GC_emission_O[year], GC_emission_O[year],  AADT__A_dict_high[year],  AADT__A_O_dict_high[year],  AADT__O_dict_high[year])\n\u001b[0;32m     19\u001b[0m     user_benefit_B_emission_low[year] \u001b[38;5;241m=\u001b[39m get_ROH(GC_emission_B[year], GC_emission_O[year], GC_emission_O[year],  AADT__B_dict_low[year],  AADT__B_O_dict_low[year],  AADT__O_dict_low[year])\n",
      "\u001b[1;31mNameError\u001b[0m: name 'get_ROH' is not defined"
     ]
    }
   ],
   "source": [
    "\n",
    "GC_emission_A = {}\n",
    "GC_emission_B = {}\n",
    "GC_emission_O = {}\n",
    "for year in range(2031, 2091):\n",
    "    GC_emission_A[year] = emission_factor[year] * money_value_of_emission[year] * fuel_effieciency[year] * road_length__A * 1.5893 / 1000\n",
    "    GC_emission_B[year] = emission_factor[year] * money_value_of_emission[year] * fuel_effieciency[year] * road_length_B * 1.5893 / 1000\n",
    "    GC_emission_O[year] = emission_factor[year] * money_value_of_emission[year] * fuel_effieciency[year] * road_length__O * 1.5893 / 1000\n",
    "\n",
    "print(GC_emission_A[2090])\n",
    "print(GC_emission_B[2031])\n",
    "print(GC_emission_O[2031])\n",
    "user_benefit_A_emission_low = {}\n",
    "user_benefit_A_emission_high = {}\n",
    "user_benefit_B_emission_low = {}\n",
    "user_benefit_B_emission_high = {}\n",
    "for year in range(2031, 2091):\n",
    "    user_benefit_A_emission_low[year] = get_ROH(GC_emission_A[year], GC_emission_O[year], GC_emission_O[year],  AADT__A_dict_low[year],  AADT__A_O_dict_low[year],  AADT__O_dict_low[year])\n",
    "    user_benefit_A_emission_high[year] = get_ROH(GC_emission_A[year], GC_emission_O[year], GC_emission_O[year],  AADT__A_dict_high[year],  AADT__A_O_dict_high[year],  AADT__O_dict_high[year])\n",
    "    user_benefit_B_emission_low[year] = get_ROH(GC_emission_B[year], GC_emission_O[year], GC_emission_O[year],  AADT__B_dict_low[year],  AADT__B_O_dict_low[year],  AADT__O_dict_low[year])\n",
    "    user_benefit_B_emission_high[year] = get_ROH(GC_emission_B[year], GC_emission_O[year], GC_emission_O[year],  AADT__B_dict_high[year],  AADT__B_O_dict_high[year],  AADT__O_dict_high[year])\n",
    "\n",
    "\n"
   ]
  },
  {
   "cell_type": "markdown",
   "metadata": {},
   "source": [
    "最后一步，成本（建设和维护），我决定上面的都算是收益，哪怕是负收益"
   ]
  },
  {
   "cell_type": "code",
   "execution_count": 1365,
   "metadata": {},
   "outputs": [],
   "source": [
    "maintainance_cost_A_2030 = maintainance_cost_A * 1.5893\n",
    "maintainance_cost_B_2030 = maintenance_cost__B * 1.5893\n",
    "maintainance_cost_A_dict = {}\n",
    "maintainance_cost_B_dict = {}\n",
    "for year in range(2031, 2091):\n",
    "    maintainance_cost_A_dict[year] = maintainance_cost_A_2030\n",
    "    maintainance_cost_B_dict[year] = maintainance_cost_B_2030\n",
    "\n",
    "construction_cost__A_modified = construction_cost__A /2 * (1 + 1.035) * 1.5893\n",
    "construction_cost__B_modified = construction_cost__B /2 * (1 + 1.035) * 1.5893\n",
    "\n"
   ]
  },
  {
   "cell_type": "markdown",
   "metadata": {},
   "source": [
    "整合各部分成本和收益"
   ]
  },
  {
   "cell_type": "code",
   "execution_count": 1366,
   "metadata": {},
   "outputs": [],
   "source": [
    "'''\n",
    "1. 用半数法的部分\n",
    "benefit_travel_time ... GC_for_journey_time\n",
    "benefit_vehicle_operating_cost ... GC_for_fuel_cost, GC_for_non_fuel_work\n",
    "benefit_emission ... GC_emission\n",
    "GC_total_A_low = GC_for_journey_time_A + GC_for_fuel_cost_A + GC_emission_A + 0.053 * GC_for_non_fuel_non_work_A\n",
    "\n",
    "2. 用复杂公式的部分，也用了半数法\n",
    "benefit_indirect_tax ... indirect_tax_A, indirect_tax_B\n",
    "3. 用净收益的部分\n",
    "non_fuel_non_work ... GC_for_non_fuel_non_Work\n",
    "'''\n",
    "benefit_A_low = discount_to_2030(user_benefit_A_work_low, 2090) + discount_to_2030(user_benefit_A_non_work_low, 2090) + discount_to_2030(user_benefit_non_work_non_fuel_A_low, 2090) + discount_to_2030(user_benefit_A_emission_low, 2090) - discount_to_2030(indirect_tax_A_low, 2090)\n",
    "benefit_A_high = discount_to_2030(user_benefit_A_work_high, 2090) + discount_to_2030(user_benefit_A_non_work_high, 2090) + discount_to_2030(user_benefit_non_work_non_fuel_A_high, 2090) + discount_to_2030(user_benefit_A_emission_high, 2090) - discount_to_2030(indirect_tax_A_high, 2090)\n",
    "cost_A = construction_cost__A_modified + discount_to_2030(maintainance_cost_A_dict, 2090)\n",
    "benefit_B_low = discount_to_2030(user_benefit_B_work_low, 2090) + discount_to_2030(user_benefit_B_non_work_low, 2090) + discount_to_2030(user_benefit_non_work_non_fuel_B_low, 2090) + discount_to_2030(user_benefit_B_emission_low, 2090) - discount_to_2030(indirect_tax_B_low, 2090)\n",
    "benefit_B_high = discount_to_2030(user_benefit_B_work_high, 2090) + discount_to_2030(user_benefit_B_non_work_high, 2090) + discount_to_2030(user_benefit_non_work_non_fuel_B_high, 2090) + discount_to_2030(user_benefit_B_emission_high, 2090) - discount_to_2030(indirect_tax_B_high, 2090)\n",
    "cost_B = construction_cost__B_modified + discount_to_2030(maintainance_cost_B_dict, 2090)\n",
    "benefits_A_low = {}\n",
    "benefits_A_high = {}\n",
    "benefits_B_low = {}\n",
    "benefits_B_high = {}\n",
    "for year in range(2031, 2091):\n",
    "    benefits_A_low[year] = discount_to_2030(user_benefit_A_work_low, year) + discount_to_2030(user_benefit_A_non_work_low, year) + discount_to_2030(user_benefit_non_work_non_fuel_A_low, year) + discount_to_2030(user_benefit_A_emission_low, year) - discount_to_2030(indirect_tax_A_low, year)\n",
    "    benefits_A_high[year] = discount_to_2030(user_benefit_A_work_high, year) + discount_to_2030(user_benefit_A_non_work_high, year) + discount_to_2030(user_benefit_non_work_non_fuel_A_high, year) + discount_to_2030(user_benefit_A_emission_high, year) - discount_to_2030(indirect_tax_A_high, year)\n",
    "    benefits_B_low[year] = discount_to_2030(user_benefit_B_work_low, year) + discount_to_2030(user_benefit_B_non_work_low, year) + discount_to_2030(user_benefit_non_work_non_fuel_B_low, year) + discount_to_2030(user_benefit_B_emission_low, year) - discount_to_2030(indirect_tax_B_low, year)\n",
    "    benefits_B_high[year] = discount_to_2030(user_benefit_B_work_high, year) + discount_to_2030(user_benefit_B_non_work_high, year) + discount_to_2030(user_benefit_non_work_non_fuel_B_high, year) + discount_to_2030(user_benefit_B_emission_high, year) - discount_to_2030(indirect_tax_B_high, year)\n",
    "    \n"
   ]
  },
  {
   "cell_type": "markdown",
   "metadata": {},
   "source": [
    "PVB, PVC"
   ]
  },
  {
   "cell_type": "code",
   "execution_count": 1367,
   "metadata": {},
   "outputs": [
    {
     "name": "stdout",
     "output_type": "stream",
     "text": [
      "     PVB_A_low:   369347257.24\n",
      "    PVB_A_high:   430324266.36\n",
      "     PVB_B_low:   236784432.36\n",
      "    PVB_B_high:   276350011.22\n",
      "     PVC_A_low:   145943436.50\n",
      "    PVC_A_high:   145943436.50\n",
      "     PVC_B_low:   124920970.75\n",
      "    PVC_B_high:   124920970.75\n"
     ]
    }
   ],
   "source": [
    "PVB_A_low = benefit_A_low\n",
    "PVB_A_high = benefit_A_high\n",
    "PVB_B_low = benefit_B_low\n",
    "PVB_B_high = benefit_B_high\n",
    "PVC_A_low = cost_A\n",
    "PVC_A_high = cost_A\n",
    "PVC_B_low = cost_B\n",
    "PVC_B_high = cost_B\n",
    "\n",
    "print(f\"{'PVB_A_low:':>15}{PVB_A_low:>15.2f}\")\n",
    "print(f\"{'PVB_A_high:':>15}{PVB_A_high:>15.2f}\")\n",
    "print(f\"{'PVB_B_low:':>15}{PVB_B_low:>15.2f}\")\n",
    "print(f\"{'PVB_B_high:':>15}{PVB_B_high:>15.2f}\")\n",
    "print(f\"{'PVC_A_low:':>15}{PVC_A_low:>15.2f}\")\n",
    "print(f\"{'PVC_A_high:':>15}{PVC_A_high:>15.2f}\")\n",
    "print(f\"{'PVC_B_low:':>15}{PVC_B_low:>15.2f}\")\n",
    "print(f\"{'PVC_B_high:':>15}{PVC_B_high:>15.2f}\")\n",
    "\n",
    "\n"
   ]
  },
  {
   "cell_type": "markdown",
   "metadata": {},
   "source": [
    "NPV"
   ]
  },
  {
   "cell_type": "code",
   "execution_count": 1368,
   "metadata": {},
   "outputs": [
    {
     "name": "stdout",
     "output_type": "stream",
     "text": [
      "     NPV_A_low:   223403820.74\n",
      "    NPV_A_high:   284380829.86\n",
      "     NPV_B_low:   111863461.61\n",
      "    NPV_B_high:   151429040.47\n"
     ]
    }
   ],
   "source": [
    "NPV_A_low = benefit_A_low - cost_A\n",
    "NPV_A_high = benefit_A_high - cost_A\n",
    "NPV_B_low = benefit_B_low - cost_B\n",
    "NPV_B_high = benefit_B_high - cost_B\n",
    "# 格式化构成结果的各项和结果,数值靠右对齐\n",
    "print(f\"{'NPV_A_low:':>15}{NPV_A_low:>15.2f}\")\n",
    "print(f\"{'NPV_A_high:':>15}{NPV_A_high:>15.2f}\")\n",
    "print(f\"{'NPV_B_low:':>15}{NPV_B_low:>15.2f}\")\n",
    "print(f\"{'NPV_B_high:':>15}{NPV_B_high:>15.2f}\")\n"
   ]
  },
  {
   "cell_type": "markdown",
   "metadata": {},
   "source": [
    "BCR"
   ]
  },
  {
   "cell_type": "code",
   "execution_count": 1369,
   "metadata": {},
   "outputs": [
    {
     "name": "stdout",
     "output_type": "stream",
     "text": [
      "     BCR_A_low:            2.53\n",
      "    BCR_A_high:            2.95\n",
      "     BCR_B_low:            1.90\n",
      "    BCR_B_high:            2.21\n"
     ]
    }
   ],
   "source": [
    "BCR_A_low = benefit_A_low / cost_A\n",
    "BCR_A_high = benefit_A_high / cost_A\n",
    "BCR_B_low = benefit_B_low / cost_B\n",
    "BCR_B_high = benefit_B_high / cost_B\n",
    "print(f\"{'BCR_A_low:':>15} {BCR_A_low:>15.2f}\")\n",
    "print(f\"{'BCR_A_high:':>15} {BCR_A_high:>15.2f}\")\n",
    "print(f\"{'BCR_B_low:':>15} {BCR_B_low:>15.2f}\")\n",
    "print(f\"{'BCR_B_high:':>15} {BCR_B_high:>15.2f}\")"
   ]
  },
  {
   "cell_type": "markdown",
   "metadata": {},
   "source": [
    "IRR，使用numpy_financial包"
   ]
  },
  {
   "cell_type": "code",
   "execution_count": 1370,
   "metadata": {},
   "outputs": [
    {
     "name": "stdout",
     "output_type": "stream",
     "text": [
      "     IRR_A_low:          26.44%\n",
      "    IRR_A_high:          27.04%\n",
      "     IRR_B_low:          21.68%\n",
      "    IRR_B_high:          22.25%\n"
     ]
    }
   ],
   "source": [
    "import numpy_financial as npf\n",
    "\n",
    "cash_flows_A_low = [-construction_cost__A_modified] + [benefits_A_low[year] - maintainance_cost_A_dict[year] for year in range(2031, 2091)]\n",
    "cash_flows_A_high = [-construction_cost__A_modified] + [benefits_A_high[year] - maintainance_cost_A_dict[year] for year in range(2031, 2091)]\n",
    "cash_flows_B_low = [-construction_cost__B_modified] + [benefits_B_low[year] - maintainance_cost_B_dict[year] for year in range(2031, 2091)]\n",
    "cash_flows_B_high = [-construction_cost__B_modified] + [benefits_B_high[year] - maintainance_cost_B_dict[year] for year in range(2031, 2091)]\n",
    "\n",
    "irr_flows_A_low = npf.irr(cash_flows_A_low)\n",
    "irr_flows_A_high = npf.irr(cash_flows_A_high)\n",
    "irr_flows_B_low = npf.irr(cash_flows_B_low)\n",
    "irr_flows_B_high = npf.irr(cash_flows_B_high)\n",
    "\n",
    "print(f\"{'IRR_A_low:':>15} {irr_flows_A_low:>15.2%}\")\n",
    "print(f\"{'IRR_A_high:':>15} {irr_flows_A_high:>15.2%}\")\n",
    "print(f\"{'IRR_B_low:':>15} {irr_flows_B_low:>15.2%}\")\n",
    "print(f\"{'IRR_B_high:':>15} {irr_flows_B_high:>15.2%}\")\n"
   ]
  },
  {
   "cell_type": "markdown",
   "metadata": {},
   "source": [
    "Payback_Period"
   ]
  },
  {
   "cell_type": "code",
   "execution_count": 1371,
   "metadata": {},
   "outputs": [
    {
     "name": "stdout",
     "output_type": "stream",
     "text": [
      "Payback_Period_A_low: 2035\n",
      "Payback_Period_A_high: 2035\n",
      "Payback_Period_B_low: 2037\n",
      "Payback_Period_B_high: 2037\n"
     ]
    }
   ],
   "source": [
    "def calculate_Payback_Period(benefits, costs, constant_cost):\n",
    "    for year in range(2031, 2091):\n",
    "        total_benefit = discount_to_2030(benefits, year)\n",
    "        total_cost = discount_to_2030(costs, year) + constant_cost\n",
    "        if total_benefit > total_cost:\n",
    "            return year - 1\n",
    "\n",
    "Payback_Period_A_low = calculate_Payback_Period(benefits_A_low, maintainance_cost_A_dict, construction_cost__A_modified)\n",
    "Payback_Period_A_high = calculate_Payback_Period(benefits_A_high, maintainance_cost_A_dict, construction_cost__A_modified)\n",
    "Payback_Period_B_low = calculate_Payback_Period(benefits_B_low, maintainance_cost_B_dict, construction_cost__B_modified)\n",
    "Payback_Period_B_high = calculate_Payback_Period(benefits_B_high, maintainance_cost_B_dict, construction_cost__B_modified)\n",
    "print('Payback_Period_A_low:', Payback_Period_A_low)\n",
    "print('Payback_Period_A_high:', Payback_Period_A_high)\n",
    "print('Payback_Period_B_low:', Payback_Period_B_low)\n",
    "print('Payback_Period_B_high:', Payback_Period_B_high)"
   ]
  },
  {
   "cell_type": "markdown",
   "metadata": {},
   "source": [
    "FYRR \n"
   ]
  },
  {
   "cell_type": "code",
   "execution_count": 1372,
   "metadata": {},
   "outputs": [
    {
     "name": "stdout",
     "output_type": "stream",
     "text": [
      "FYRR_A_low: 0.056410120346219166\n",
      "FYRR_A_high: 0.05663008454105887\n",
      "FYRR_B_low: 0.038518854060228376\n",
      "FYRR_B_high: 0.038641369040337194\n"
     ]
    }
   ],
   "source": [
    "benefit_A_low_2031 = benefits_A_low[2031]\n",
    "benefit_A_high_2031 = benefits_A_high[2031]\n",
    "benefit_B_low_2031 = benefits_B_low[2031]\n",
    "benefit_B_high_2031 = benefits_B_high[2031]\n",
    "cost_A_2031 = maintainance_cost_A_dict[2031] \n",
    "cost_B_2031 = maintainance_cost_B_dict[2031]\n",
    "initial_cost_A = construction_cost__A_modified\n",
    "initial_cost_B = construction_cost__B_modified\n",
    "fyrr_A_low = (benefit_A_low_2031 - cost_A_2031) / initial_cost_A\n",
    "fyrr_A_high = (benefit_A_high_2031 - cost_A_2031) / initial_cost_A\n",
    "fyrr_B_low = (benefit_B_low_2031 - cost_B_2031) / initial_cost_B\n",
    "fyrr_B_high = (benefit_B_high_2031 - cost_B_2031) / initial_cost_B\n",
    "print('FYRR_A_low:', fyrr_A_low)\n",
    "print('FYRR_A_high:', fyrr_A_high)\n",
    "print('FYRR_B_low:', fyrr_B_low)\n",
    "print('FYRR_B_high:', fyrr_B_high)\n"
   ]
  },
  {
   "cell_type": "markdown",
   "metadata": {},
   "source": [
    "现在做一个总的汇总表，包含题目要求的各量：\n",
    "\n",
    "1. PVC\n",
    "2. PVB\n",
    "3. NPV\n",
    "4. BCR\n",
    "5. IRR\n",
    "6. FYRR\n",
    "7. Pay_back_Period\n"
   ]
  },
  {
   "cell_type": "code",
   "execution_count": 1373,
   "metadata": {},
   "outputs": [
    {
     "name": "stdout",
     "output_type": "stream",
     "text": [
      "                       A_low        A_high         B_low        B_high\n",
      "PVC             1.459434e+08  1.459434e+08  1.249210e+08  1.249210e+08\n",
      "PVB             3.693473e+08  4.303243e+08  2.367844e+08  2.763500e+08\n",
      "NPV             2.234038e+08  2.843808e+08  1.118635e+08  1.514290e+08\n",
      "BCR             2.530756e+00  2.948569e+00  1.895474e+00  2.212199e+00\n",
      "IRR             2.643930e-01  2.704123e-01  2.167644e-01  2.225044e-01\n",
      "Payback_Period  2.035000e+03  2.035000e+03  2.037000e+03  2.037000e+03\n",
      "FYRR            5.641012e-02  5.663008e-02  3.851885e-02  3.864137e-02\n"
     ]
    }
   ],
   "source": [
    "'''\n",
    "现在做一个总的汇总表，包含题目要求的各量：\n",
    "\n",
    "1. PVC\n",
    "2. PVB\n",
    "3. NPV\n",
    "4. BCR\n",
    "5. IRR\n",
    "6. FYRR\n",
    "7. Pay_back_Period\n",
    "'''\n",
    "import pandas as pd\n",
    "\n",
    "data = {\n",
    "    'A_low': [PVC_A_low, PVB_A_low, NPV_A_low, BCR_A_low, irr_flows_A_low, Payback_Period_A_low, fyrr_A_low],\n",
    "    'A_high': [PVC_A_high, PVB_A_high, NPV_A_high, BCR_A_high, irr_flows_A_high, Payback_Period_A_high, fyrr_A_high],\n",
    "    'B_low': [PVC_B_low, PVB_B_low, NPV_B_low, BCR_B_low, irr_flows_B_low, Payback_Period_B_low, fyrr_B_low],\n",
    "    'B_high': [PVC_B_high, PVB_B_high, NPV_B_high, BCR_B_high, irr_flows_B_high, Payback_Period_B_high, fyrr_B_high]\n",
    "}\n",
    "\n",
    "df = pd.DataFrame(data, index=['PVC', 'PVB', 'NPV', 'BCR', 'IRR', 'Payback_Period', 'FYRR'])\n",
    "print(df)\n",
    "with pd.ExcelWriter('output_sum.xlsx') as writer:\n",
    "    df.to_excel(writer, sheet_name='Sheet1')"
   ]
  },
  {
   "cell_type": "markdown",
   "metadata": {},
   "source": [
    "现在做一个汇总表，因为如果表格太大的话不好放入到文档中，因此，分几部分来输出:\n",
    "\n",
    "1. VOC Benefit Data (这里包含了旅行时间，燃料成本和非燃料成本)\n",
    "2. Emission Benefit Data\n",
    "3. Indirect Tax Benefit Data\n",
    "4. Cost Data"
   ]
  },
  {
   "cell_type": "code",
   "execution_count": 1374,
   "metadata": {},
   "outputs": [],
   "source": [
    "import pandas as pd\n",
    "\n",
    "# 初始化DataFrame\n",
    "years = sorted(list(benefits_A_low.keys()))\n",
    "df = pd.DataFrame(index=years)\n",
    "\n",
    "# 用户利益数据（避免重复赋值，直接在创建时填充）\n",
    "df_benefit_VOC = pd.DataFrame(index=df.index)\n",
    "df_benefit_VOC['VOC_benefit_A_work_low'] = df.index.map(user_benefit_A_work_low)\n",
    "df_benefit_VOC['VOC_benefit_A_work_high'] = df.index.map(user_benefit_A_work_high)\n",
    "df_benefit_VOC['VOC_benefit_B_work_low'] = df.index.map(user_benefit_B_work_low)\n",
    "df_benefit_VOC['VOC_benefit_B_work_high'] = df.index.map(user_benefit_B_work_high)\n",
    "df_benefit_VOC['VOC_benefit_A_non_work_low'] = df.index.map(user_benefit_A_non_work_low)\n",
    "df_benefit_VOC['VOC_benefit_A_non_work_high'] = df.index.map(user_benefit_A_non_work_high)\n",
    "df_benefit_VOC['VOC_benefit_B_non_work_low'] = df.index.map(user_benefit_B_non_work_low)\n",
    "df_benefit_VOC['VOC_benefit_B_non_work_high'] = df.index.map(user_benefit_B_non_work_high)\n",
    "df_benefit_VOC['VOC_beneift_non_fuel_non_work_A_low'] = df.index.map(user_benefit_non_work_non_fuel_A_low)\n",
    "df_benefit_VOC['VOC_beneift_non_fuel_non_work_A_high'] = df.index.map(user_benefit_non_work_non_fuel_A_high)\n",
    "df_benefit_VOC['VOC_beneift_non_fuel_non_work_B_low'] = df.index.map(user_benefit_non_work_non_fuel_B_low)\n",
    "df_benefit_VOC['VOC_beneift_non_fuel_non_work_B_high'] = df.index.map(user_benefit_non_work_non_fuel_B_high)\n",
    "df_benefit_emission = pd.DataFrame(index=df.index)\n",
    "df_benefit_emission['emission_benefit_A_low'] = df.index.map(user_benefit_A_emission_low)\n",
    "df_benefit_emission['emission_benefit_A_high'] = df.index.map(user_benefit_A_emission_high)\n",
    "df_benefit_emission['emission_benefit_B_low'] = df.index.map(user_benefit_B_emission_low)\n",
    "df_benefit_emission['emission_benefit_B_high'] = df.index.map(user_benefit_B_emission_high)\n",
    "df_benefit_indirect_tax = pd.DataFrame(index=df.index)\n",
    "df_benefit_indirect_tax['indirect_tax_benefit_A_low'] = df.index.map(indirect_tax_A_low)\n",
    "df_benefit_indirect_tax['indirect_tax_benefit_A_high'] = df.index.map(indirect_tax_A_high)\n",
    "df_benefit_indirect_tax['indirect_tax_benefit_B_low'] = df.index.map(indirect_tax_B_low)\n",
    "df_benefit_indirect_tax['indirect_tax_benefit_B_high'] = df.index.map(indirect_tax_B_high)\n",
    "\n",
    "\n",
    "# 其他数据可以以类似的方式创建专门的DataFrame\n",
    "df_cost = pd.DataFrame(index=df.index)\n",
    "df_cost['construction_cost__A'] = construction_cost__A\n",
    "df_cost['construction_cost__B'] = construction_cost__B \n",
    "df_cost['maintainance_cost_A'] = df.index.map(maintainance_cost_A_dict)\n",
    "df_cost['maintainance_cost_B'] = df.index.map(maintainance_cost_B_dict)\n",
    "\n",
    "\n",
    "# 注意：每个专门的DataFrame（例如df_AADT, df_GC, df_benefit等）可以根据需求单独保存或处理\n",
    "\n",
    "\n",
    "\n"
   ]
  },
  {
   "cell_type": "code",
   "execution_count": 1375,
   "metadata": {},
   "outputs": [],
   "source": [
    "# Excel文件路径\n",
    "excel_path = 'output_data.xlsx'\n",
    "\n",
    "# 使用ExcelWriter将DataFrame写入不同的工作表\n",
    "with pd.ExcelWriter(excel_path, engine='openpyxl', mode='w') as writer:\n",
    "    df_benefit_VOC.to_excel(writer, sheet_name='VOC Benefit Data', index=True)\n",
    "    df_benefit_emission.to_excel(writer, sheet_name='Emission Benefit Data', index=True)\n",
    "    df_benefit_indirect_tax.to_excel(writer, sheet_name='Indirect Tax Benefit Data', index=True)\n",
    "    df_cost.to_excel(writer, sheet_name='Cost Data', index=True)\n",
    "\n",
    "   \n"
   ]
  },
  {
   "cell_type": "markdown",
   "metadata": {},
   "source": [
    "调整下列宽"
   ]
  },
  {
   "cell_type": "code",
   "execution_count": 1376,
   "metadata": {},
   "outputs": [],
   "source": [
    "import pandas as pd\n",
    "from openpyxl.utils import get_column_letter\n",
    "\n",
    "excel_path = 'output_data.xlsx'\n",
    "with pd.ExcelWriter(excel_path, engine='openpyxl', mode='w') as writer:\n",
    "    df_benefit_VOC.to_excel(writer, sheet_name='VOC Benefit Data', index=True)\n",
    "    df_benefit_emission.to_excel(writer, sheet_name='Emission Benefit Data', index=True)\n",
    "    df_benefit_indirect_tax.to_excel(writer, sheet_name='Indirect Tax Benefit Data', index=True)\n",
    "    df_cost.to_excel(writer, sheet_name='Cost Data', index=True)\n",
    "\n",
    "    workbook = writer.book\n",
    "    worksheet = workbook['VOC Benefit Data']\n",
    "    for col in worksheet.columns:\n",
    "        worksheet.column_dimensions[get_column_letter(col[0].column)].width = 40\n",
    "    worksheet = workbook['Emission Benefit Data']\n",
    "    for col in worksheet.columns:\n",
    "        worksheet.column_dimensions[get_column_letter(col[0].column)].width = 40\n",
    "    worksheet = workbook['Indirect Tax Benefit Data']\n",
    "    for col in worksheet.columns:\n",
    "        worksheet.column_dimensions[get_column_letter(col[0].column)].width = 40\n",
    "    worksheet = workbook['Cost Data']\n",
    "    for col in worksheet.columns:\n",
    "        worksheet.column_dimensions[get_column_letter(col[0].column)].width = 40"
   ]
  },
  {
   "cell_type": "markdown",
   "metadata": {},
   "source": [
    "下面对construction cost, time value, emission, life span, discount进行敏感性测试\n",
    "\n",
    "我个人认为该商业计划是一个OBC（Outline Business Case），这只是一个主观判断，因此 optimism_bias_uplifts 取值为 23%"
   ]
  },
  {
   "cell_type": "markdown",
   "metadata": {},
   "source": [
    "根据说明，计算BCR即可，因此，在使用乐观偏差调整后得出BCR\n",
    "\n",
    "同时，因为ppt中make a decision 在敏感性测试之后，所以测试内容还是得包括方案B...."
   ]
  },
  {
   "cell_type": "markdown",
   "metadata": {},
   "source": [
    "先计算construction_cost"
   ]
  },
  {
   "cell_type": "code",
   "execution_count": 1377,
   "metadata": {},
   "outputs": [
    {
     "name": "stdout",
     "output_type": "stream",
     "text": [
      "BCR_A_low_uplift:            2.06\n",
      "BCR_A_high_uplift:            2.40\n",
      "BCR_B_low_uplift:            1.54\n",
      "BCR_B_high_uplift:            1.80\n",
      "                                  A_low:       A_high:         B_low:  \\\n",
      "PVC                          1.459434e+08  1.459434e+08  1.249210e+08   \n",
      "PVC_uplift                   1.794177e+08  1.794177e+08  1.535600e+08   \n",
      "PVB                          3.693473e+08  4.303243e+08  2.367844e+08   \n",
      "BCR_uplift                   2.058589e+00  2.398450e+00  1.541966e+00   \n",
      "cost_needed_for_BCR_high    -3.167877e+07 -7.287964e+06 -3.516782e+07   \n",
      "cost_needed_for_BCR_low      5.255958e+06  3.574446e+07  4.296251e+06   \n",
      "overrun_needed_for_BCR_high  1.230248e-02  1.794275e-01 -5.226308e-02   \n",
      "overrun_needed_for_BCR_low   2.653781e-01  4.742844e-01  2.636492e-01   \n",
      "\n",
      "                                  B_high:  \n",
      "PVC                          1.249210e+08  \n",
      "PVC_uplift                   1.535600e+08  \n",
      "PVB                          2.763500e+08  \n",
      "BCR_uplift                   1.799622e+00  \n",
      "cost_needed_for_BCR_high    -1.538503e+07  \n",
      "cost_needed_for_BCR_low      3.067330e+07  \n",
      "overrun_needed_for_BCR_high  1.060994e-01  \n",
      "overrun_needed_for_BCR_low   4.747991e-01  \n"
     ]
    }
   ],
   "source": [
    "optimism_bias_uplifts = 1.23\n",
    "cost_A_uplift = construction_cost__A_modified * optimism_bias_uplifts + discount_to_2030(maintainance_cost_A_dict, 2090)\n",
    "cost_B_uplift = construction_cost__B_modified * optimism_bias_uplifts + discount_to_2030(maintainance_cost_B_dict, 2090)\n",
    "\n",
    "def BCR_calculator_by_cost_uplift(benefit, construction_cost, maintainance_cost, optimism_bias_uplifts):\n",
    "    cost_uplift =   construction_cost * optimism_bias_uplifts + maintainance_cost\n",
    "    return benefit / cost_uplift\n",
    "\n",
    "'''\n",
    "BCR_A_low = benefit_A_low / cost_A\n",
    "BCR_A_high = benefit_A_high / cost_A\n",
    "BCR_B_low = benefit_B_low / cost_B\n",
    "BCR_B_high = benefit_B_high / cost_B\n",
    "'''\n",
    "\n",
    "BCR_A_low_uplift = BCR_calculator_by_cost_uplift(benefit_A_low, construction_cost__A_modified, discount_to_2030(maintainance_cost_A_dict, 2090), optimism_bias_uplifts)\n",
    "BCR_A_high_uplift = BCR_calculator_by_cost_uplift(benefit_A_high, construction_cost__A_modified, discount_to_2030(maintainance_cost_A_dict, 2090), optimism_bias_uplifts)\n",
    "BCR_B_low_uplift = BCR_calculator_by_cost_uplift(benefit_B_low, construction_cost__B_modified, discount_to_2030(maintainance_cost_B_dict, 2090), optimism_bias_uplifts)\n",
    "BCR_B_high_uplift = BCR_calculator_by_cost_uplift(benefit_B_high, construction_cost__B_modified, discount_to_2030(maintainance_cost_B_dict, 2090), optimism_bias_uplifts)\n",
    "print(f\"{'BCR_A_low_uplift:':>15} {BCR_A_low_uplift:>15.2f}\")\n",
    "print(f\"{'BCR_A_high_uplift:':>15} {BCR_A_high_uplift:>15.2f}\")\n",
    "print(f\"{'BCR_B_low_uplift:':>15} {BCR_B_low_uplift:>15.2f}\")\n",
    "print(f\"{'BCR_B_high_uplift:':>15} {BCR_B_high_uplift:>15.2f}\")\n",
    "\n",
    "def cost_needed_for_BCR(benefit, bcr, cost_uplift):\n",
    "    \"\"\"计算达到特定BCR所需的成本。\"\"\"\n",
    "    return benefit / bcr - cost_uplift\n",
    "\n",
    "def overrun_needed_for_BCR(benefit, bcr, cost):\n",
    "    \"\"\"计算达到特定BCR所需的成本超支比例。\"\"\"\n",
    "    return benefit / bcr / cost - 1\n",
    "\n",
    "cost_needed_for_BCR_2p5_low = cost_needed_for_BCR(benefit_A_low, 2.5, cost_A_uplift)\n",
    "cost_needed_for_BCR_2p5_high = cost_needed_for_BCR(benefit_A_high, 2.5, cost_A_uplift)\n",
    "cost_needed_for_BCR_2_low = cost_needed_for_BCR(benefit_A_low, 2, cost_A_uplift)\n",
    "cost_needed_for_BCR_2_high = cost_needed_for_BCR(benefit_A_high, 2, cost_A_uplift)\n",
    "\n",
    "cost_needed_for_B_for_BCR_2_low = cost_needed_for_BCR(benefit_B_low, 2, cost_B_uplift)\n",
    "cost_needed_for_B_for_BCR_2_high = cost_needed_for_BCR(benefit_B_high, 2, cost_B_uplift)\n",
    "cost_needed_for_B_for_BCR_1p5_low = cost_needed_for_BCR(benefit_B_low, 1.5, cost_B_uplift)\n",
    "cost_needed_for_B_for_BCR_1p5_high = cost_needed_for_BCR(benefit_B_high, 1.5, cost_B_uplift)\n",
    "\n",
    "overrun_needed_for_BCR_2p5_low = overrun_needed_for_BCR(benefit_A_low, 2.5, cost_A)\n",
    "overrun_needed_for_BCR_2p5_high = overrun_needed_for_BCR(benefit_A_high, 2.5, cost_A)\n",
    "overrun_needed_for_BCR_2_low = overrun_needed_for_BCR(benefit_A_low, 2, cost_A)\n",
    "overrun_needed_for_BCR_2_high = overrun_needed_for_BCR(benefit_A_high, 2, cost_A)\n",
    "\n",
    "overrun_needed_for_B_for_BCR_2_low = overrun_needed_for_BCR(benefit_B_low, 2, cost_B)\n",
    "overrun_needed_for_B_for_BCR_2_high = overrun_needed_for_BCR(benefit_B_high, 2, cost_B)\n",
    "overrun_needed_for_B_for_BCR_1p5_low = overrun_needed_for_BCR(benefit_B_low, 1.5, cost_B)\n",
    "overrun_needed_for_B_for_BCR_1p5_high = overrun_needed_for_BCR(benefit_B_high, 1.5, cost_B)\n",
    "\n",
    "\n",
    "vfm_data_1 = {\n",
    "    \"A_low: \": [cost_A, cost_A_uplift, benefit_A_low, BCR_A_low_uplift, cost_needed_for_BCR_2p5_low, cost_needed_for_BCR_2_low, overrun_needed_for_BCR_2p5_low, overrun_needed_for_BCR_2_low],\n",
    "    \"A_high: \": [cost_A, cost_A_uplift, benefit_A_high, BCR_A_high_uplift, cost_needed_for_BCR_2p5_high, cost_needed_for_BCR_2_high, overrun_needed_for_BCR_2p5_high, overrun_needed_for_BCR_2_high],\n",
    "    \"B_low:\": [cost_B, cost_B_uplift, benefit_B_low, BCR_B_low_uplift, cost_needed_for_B_for_BCR_2_low, cost_needed_for_B_for_BCR_1p5_low, overrun_needed_for_B_for_BCR_2_low, overrun_needed_for_B_for_BCR_1p5_low],\n",
    "    \"B_high:\": [cost_B, cost_B_uplift, benefit_B_high, BCR_B_high_uplift, cost_needed_for_B_for_BCR_2_high, cost_needed_for_B_for_BCR_1p5_high, overrun_needed_for_B_for_BCR_2_high, overrun_needed_for_B_for_BCR_1p5_high]\n",
    "}\n",
    "\n",
    "df = pd.DataFrame(vfm_data_1, index=['PVC', 'PVC_uplift', 'PVB', 'BCR_uplift', 'cost_needed_for_BCR_high', 'cost_needed_for_BCR_low', 'overrun_needed_for_BCR_high', 'overrun_needed_for_BCR_low'])\n",
    "print(df)\n",
    "\n"
   ]
  },
  {
   "cell_type": "markdown",
   "metadata": {},
   "source": [
    "用非常牛逼的一个开源软件，[webplotdigitizer](https://automeris.io/documentation.html),生成了对应曲线提取的数据点，根据这些数据点线性插值\n",
    "\n",
    "> 这个步骤是模仿tag 1.2教程中的示范，使用的是vfm评价图表"
   ]
  },
  {
   "cell_type": "code",
   "execution_count": 1378,
   "metadata": {},
   "outputs": [
    {
     "data": {
      "text/plain": [
       "[0.19109492657337507,\n",
       " 0.4443359866332839,\n",
       " 0.131553412619402,\n",
       " 0.3426140039368963,\n",
       " 0.6424624113840605,\n",
       " 0.7628817853178547,\n",
       " 0.6420156945018313,\n",
       " 0.7631477858399159]"
      ]
     },
     "execution_count": 1378,
     "metadata": {},
     "output_type": "execute_result"
    }
   ],
   "source": [
    "import numpy as np\n",
    "\n",
    "def linear_interpolation(x_values, y_values, target_y):\n",
    "    \"\"\"\n",
    "    Performs linear interpolation to find the corresponding x value for a given target y value.\n",
    "\n",
    "    Parameters:\n",
    "    - x_values (list or array): The x values of the curve.\n",
    "    - y_values (list or array): The y values of the curve.\n",
    "    - target_y (float): The y value for which we want to find the corresponding x value.\n",
    "\n",
    "    Returns:\n",
    "    - target_x (float): The interpolated x value corresponding to the target y value.\n",
    "    \"\"\"\n",
    "    if not (len(x_values) == len(y_values)):\n",
    "        raise ValueError(\"x_values and y_values must have the same length\")\n",
    "\n",
    "    # Ensuring x_values and y_values are numpy arrays for efficient computation\n",
    "    x_values = np.array(x_values)\n",
    "    y_values = np.array(y_values)\n",
    "\n",
    "    # Finding the first instance where the y value in the array exceeds the target y value\n",
    "    for i in range(len(y_values) - 1):\n",
    "        if y_values[i] <= target_y <= y_values[i + 1] or y_values[i] >= target_y >= y_values[i + 1]:\n",
    "            # Performing linear interpolation\n",
    "            slope = (x_values[i + 1] - x_values[i]) / (y_values[i + 1] - y_values[i])\n",
    "            return x_values[i] + slope * (target_y - y_values[i])\n",
    "\n",
    "    raise ValueError(\"target_y is outside the range of y_values\")\n",
    "\n",
    "# Reload the CSV with correct column interpretation\n",
    "df = pd.read_csv('OBC_cost_road.csv', header=None, names=['x', 'y'])\n",
    "\n",
    "# Convert percentage y values to decimals for interpolation\n",
    "# -2对应的是高值，-1对应的是低值\n",
    "y_target_values = [value[-2] for key, value in vfm_data_1.items()] + [value[-1] for key, value in vfm_data_1.items()]\n",
    "\n",
    "\n",
    "# Use the linear interpolation function to find corresponding x values for the given y targets\n",
    "x_interpolated = [linear_interpolation(df['x'].values, df['y'].values, y) for y in y_target_values]\n",
    "x_interpolated\n"
   ]
  },
  {
   "cell_type": "markdown",
   "metadata": {},
   "source": [
    "继续计算关于项目周期的计算"
   ]
  },
  {
   "cell_type": "code",
   "execution_count": 1379,
   "metadata": {},
   "outputs": [
    {
     "name": "stdout",
     "output_type": "stream",
     "text": [
      "2078\n",
      "BCR_A_low_l_corrected:            2.18\n",
      "BCR_A_high_l_corrected:            2.52\n",
      "BCR_B_low_l_corrected:            1.62\n",
      "BCR_B_high_l_corrected:            1.88\n"
     ]
    }
   ],
   "source": [
    "\n",
    "life_span = 60\n",
    "life_span_corrected = int(60 / optimism_bias_uplifts)\n",
    "life_span_corrected += 2030\n",
    "print(life_span_corrected)\n",
    "benefit_A_low_l_corrected = discount_to_2030(user_benefit_A_work_low, life_span_corrected) + discount_to_2030(user_benefit_A_non_work_low, life_span_corrected) + discount_to_2030(user_benefit_non_work_non_fuel_A_low, life_span_corrected) + discount_to_2030(user_benefit_A_emission_low, life_span_corrected) - discount_to_2030(indirect_tax_A_low, life_span_corrected)\n",
    "benefit_A_high_l_corrected = discount_to_2030(user_benefit_A_work_high, life_span_corrected) + discount_to_2030(user_benefit_A_non_work_high, life_span_corrected) + discount_to_2030(user_benefit_non_work_non_fuel_A_high, life_span_corrected) + discount_to_2030(user_benefit_A_emission_high, life_span_corrected) - discount_to_2030(indirect_tax_A_high, life_span_corrected)\n",
    "cost_A_l_corrected = construction_cost__A_modified + discount_to_2030(maintainance_cost_A_dict, life_span_corrected)\n",
    "benefit_B_low_l_corrected = discount_to_2030(user_benefit_B_work_low, life_span_corrected) + discount_to_2030(user_benefit_B_non_work_low, life_span_corrected) + discount_to_2030(user_benefit_non_work_non_fuel_B_low, life_span_corrected) + discount_to_2030(user_benefit_B_emission_low, life_span_corrected) - discount_to_2030(indirect_tax_B_low, life_span_corrected)\n",
    "benefit_B_high_l_corrected = discount_to_2030(user_benefit_B_work_high, life_span_corrected) + discount_to_2030(user_benefit_B_non_work_high, life_span_corrected) + discount_to_2030(user_benefit_non_work_non_fuel_B_high, life_span_corrected) + discount_to_2030(user_benefit_B_emission_high, life_span_corrected) - discount_to_2030(indirect_tax_B_high, life_span_corrected)\n",
    "cost_B_l_corrected = construction_cost__B_modified + discount_to_2030(maintainance_cost_B_dict, life_span_corrected)\n",
    "\n",
    "BCR_A_low_l_corrected = benefit_A_low_l_corrected / cost_A_l_corrected\n",
    "BCR_A_high_l_corrected = benefit_A_high_l_corrected / cost_A_l_corrected\n",
    "BCR_B_low_l_corrected = benefit_B_low_l_corrected / cost_B_l_corrected\n",
    "BCR_B_high_l_corrected = benefit_B_high_l_corrected / cost_B_l_corrected\n",
    "print(f\"{'BCR_A_low_l_corrected:':>15} {BCR_A_low_l_corrected:>15.2f}\")\n",
    "print(f\"{'BCR_A_high_l_corrected:':>15} {BCR_A_high_l_corrected:>15.2f}\")\n",
    "print(f\"{'BCR_B_low_l_corrected:':>15} {BCR_B_low_l_corrected:>15.2f}\")\n",
    "print(f\"{'BCR_B_high_l_corrected:':>15} {BCR_B_high_l_corrected:>15.2f}\")\n",
    "    \n",
    "\n"
   ]
  },
  {
   "cell_type": "markdown",
   "metadata": {},
   "source": [
    "时间价值，温室气体排放价值，和利率，分别改变23% 观测BCR的改变\n",
    "\n",
    "实现途径可以是最简单的，复制几份程序，改变初始值，算出来结果即可……\n",
    "\n",
    "1. discount_2 = discount * 1.23\n",
    "2. value of time 2 = value of time / 1.23\n",
    "3. emission_value (price) = emission_value (price) *1.23\n",
    "\n",
    "因此，这部分内容见其他程序"
   ]
  },
  {
   "cell_type": "markdown",
   "metadata": {},
   "source": [
    "如果所有电动汽车都变成了汽油车，会影响三部分：\n",
    "\n",
    "1. 排放的影响，排放带来的负收益将非常严重\n",
    "2. 燃油成本降低？\n",
    "3. 间接税由损失转为正收入\n",
    "\n",
    "一步步来考虑，先考虑排放的影响"
   ]
  },
  {
   "cell_type": "code",
   "execution_count": 1380,
   "metadata": {},
   "outputs": [],
   "source": [
    "# litres\n",
    "petrol_consumption_A = (0.45195 / average_speed__A + 0.09605 -0.00109 * average_speed__A + 0.000007 * average_speed__A ** 2) * road_length__A\n",
    "petrol_consumption_B = (0.45195 / average_speed__B + 0.09605 -0.00109 * average_speed__B + 0.000007 * average_speed__B ** 2) * road_length_B\n",
    "petrol_consumption_A_O = (0.45195 / average_speed__A_O + 0.09605 -0.00109 * average_speed__A_O + 0.000007 * average_speed__A_O ** 2) * road_length__O\n",
    "petrol_consumption_B_O = (0.45195 / average_speed__B_O + 0.09605 -0.00109 * average_speed__B_O + 0.000007 * average_speed__B_O ** 2) * road_length__O\n",
    "petrol_consumption_O = (0.45195 / average_speed__O + 0.09605 -0.00109 * average_speed__O + 0.000007 * average_speed__O ** 2) * road_length__O\n",
    "\n",
    "petrol_kg_per_litre = 2.11\n",
    "\n",
    "GC_petrol_emission_A = {}\n",
    "GC_petrol_emission_B = {}\n",
    "GC_petrol_emission_A_O = {}\n",
    "GC_petrol_emission_B_O = {}\n",
    "GC_petrol_emission_O = {}\n",
    "# 除以1000是为了将kg转换为t\n",
    "for year in range(2031, 2091):\n",
    "    GC_petrol_emission_A[year] = petrol_consumption_A * petrol_kg_per_litre * money_value_of_emission[year] *1.5893 / 1000\n",
    "    GC_petrol_emission_B[year] = petrol_consumption_B * petrol_kg_per_litre * money_value_of_emission[year] *1.5893 / 1000\n",
    "    GC_petrol_emission_A_O[year] = petrol_consumption_A_O * petrol_kg_per_litre * money_value_of_emission[year] *1.5893 / 1000\n",
    "    GC_petrol_emission_B_O[year] = petrol_consumption_B_O * petrol_kg_per_litre * money_value_of_emission[year] *1.5893 / 1000\n",
    "    GC_petrol_emission_O[year] = petrol_consumption_O * petrol_kg_per_litre * money_value_of_emission[year] *1.5893 / 1000\n",
    "\n",
    "user_benefit_A_emission_low_2 = {}\n",
    "user_benefit_A_emission_high_2 = {}\n",
    "user_benefit_B_emission_low_2 = {}\n",
    "user_benefit_B_emission_high_2 = {}\n",
    "\n",
    "for year in range(2031, 2091):\n",
    "    user_benefit_A_emission_low_2[year] = get_ROH(GC_petrol_emission_A[year], GC_petrol_emission_A_O[year], GC_petrol_emission_O[year], AADT__A_dict_low[year],  AADT__A_O_dict_low[year],  AADT__O_dict_low[year])\n",
    "    user_benefit_A_emission_high_2[year] = get_ROH(GC_petrol_emission_A[year], GC_petrol_emission_A_O[year], GC_petrol_emission_O[year], AADT__A_dict_high[year],  AADT__A_O_dict_high[year],  AADT__O_dict_high[year])\n",
    "    user_benefit_B_emission_low_2[year] = get_ROH(GC_petrol_emission_B[year], GC_petrol_emission_B_O[year], GC_petrol_emission_O[year], AADT__B_dict_low[year],  AADT__B_O_dict_low[year],  AADT__O_dict_low[year])\n",
    "    user_benefit_B_emission_high_2[year] = get_ROH(GC_petrol_emission_B[year], GC_petrol_emission_B_O[year], GC_petrol_emission_O[year], AADT__B_dict_high[year],  AADT__B_O_dict_high[year],  AADT__O_dict_high[year])\n"
   ]
  },
  {
   "cell_type": "markdown",
   "metadata": {},
   "source": [
    "考虑燃料成本，工作的和非工作的"
   ]
  },
  {
   "cell_type": "code",
   "execution_count": 1381,
   "metadata": {},
   "outputs": [],
   "source": [
    "# 这里包含旅行成本（注意命名可能不太合适）\n",
    "GC_work_petrol_fuel_price_A = {}\n",
    "GC_work_petrol_fuel_price_B = {}\n",
    "GC_work_petrol_fuel_price_A_O = {}\n",
    "GC_work_petrol_fuel_price_B_O = {}\n",
    "GC_work_petrol_fuel_price_O = {}\n",
    "# 除以100是讲便士转换为镑\n",
    "for year in range(2031, 2091):\n",
    "    GC_work_petrol_fuel_price_A[year] = petrol_fuel_price_65[year] * road_length__A /100 + GC_for_journey_time_A[year]\n",
    "    GC_work_petrol_fuel_price_B[year] = petrol_fuel_price_65[year] * road_length_B /100 + GC_for_journey_time_B[year]\n",
    "    GC_work_petrol_fuel_price_A_O[year] = petrol_fuel_price_28[year] * road_length__O /100 + GC_for_journey_time_A_O[year]\n",
    "    GC_work_petrol_fuel_price_B_O[year] = petrol_fuel_price_28[year] * road_length__O /100 + GC_for_journey_time_B_O[year]\n",
    "    GC_work_petrol_fuel_price_O[year] = petrol_fuel_price_22[year] * road_length__O /100 + GC_for_journey_time_O[year]\n",
    "\n",
    "GC_non_work_petrol_fuel_price_A = {}\n",
    "GC_non_work_petrol_fuel_price_B = {}\n",
    "GC_non_work_petrol_fuel_price_A_O = {}\n",
    "GC_non_work_petrol_fuel_price_B_O = {}\n",
    "GC_non_work_petrol_fuel_price_O = {}\n",
    "for year in range(2031, 2091):\n",
    "    GC_non_work_petrol_fuel_price_A[year] = non_work_petrol_fuel_price_65[year] * road_length__A /100 + GC_for_journey_time_A[year]\n",
    "    GC_non_work_petrol_fuel_price_B[year] = non_work_petrol_fuel_price_65[year] * road_length_B /100 + GC_for_journey_time_B[year]\n",
    "    GC_non_work_petrol_fuel_price_A_O[year] = non_work_petrol_fuel_price_28[year] * road_length__O /100 + GC_for_journey_time_A_O[year]\n",
    "    GC_non_work_petrol_fuel_price_B_O[year] = non_work_petrol_fuel_price_28[year] * road_length__O /100 + GC_for_journey_time_B_O[year]\n",
    "    GC_non_work_petrol_fuel_price_O[year] = non_work_petrol_fuel_price_22[year] * road_length__O /100 + GC_for_journey_time_O[year]\n",
    "\n",
    "user_benefit_A_work_low_2 = {}\n",
    "user_benefit_A_work_high_2 = {}\n",
    "user_benefit_B_work_low_2 = {}\n",
    "user_benefit_B_work_high_2 = {}\n",
    "user_benefit_A_non_work_low_2 = {}\n",
    "user_benefit_A_non_work_high_2 = {}\n",
    "user_benefit_B_non_work_low_2 = {}\n",
    "user_benefit_B_non_work_high_2 = {}\n",
    "\n",
    "for year in range(2031, 2091):\n",
    "    user_benefit_A_work_low_2[year] = get_ROH(GC_work_petrol_fuel_price_A[year], GC_work_petrol_fuel_price_A_O[year], GC_work_petrol_fuel_price_O[year], 0.053 * AADT__A_dict_low[year],  0.053 * AADT__A_O_dict_low[year],  0.053 * AADT__O_dict_low[year])\n",
    "    user_benefit_A_work_high_2[year] = get_ROH(GC_work_petrol_fuel_price_A[year], GC_work_petrol_fuel_price_A_O[year], GC_work_petrol_fuel_price_O[year], 0.053 * AADT__A_dict_high[year],  0.053 * AADT__A_O_dict_high[year],  0.053 * AADT__O_dict_high[year])\n",
    "    user_benefit_B_work_low_2[year] = get_ROH(GC_work_petrol_fuel_price_B[year], GC_work_petrol_fuel_price_B_O[year], GC_work_petrol_fuel_price_O[year], 0.053 * AADT__B_dict_low[year],  0.053 * AADT__B_O_dict_low[year],  0.053 * AADT__O_dict_low[year])\n",
    "    user_benefit_B_work_high_2[year] = get_ROH(GC_work_petrol_fuel_price_B[year], GC_work_petrol_fuel_price_B_O[year], GC_work_petrol_fuel_price_O[year], 0.053 * AADT__B_dict_high[year],  0.053 * AADT__B_O_dict_high[year],  0.053 * AADT__O_dict_high[year])\n",
    "    user_benefit_A_non_work_low_2[year] = get_ROH(GC_non_work_petrol_fuel_price_A[year], GC_non_work_petrol_fuel_price_A_O[year], GC_non_work_petrol_fuel_price_O[year], 0.947 * AADT__A_dict_low[year],  0.947 * AADT__A_O_dict_low[year],  0.947 * AADT__O_dict_low[year])\n",
    "    user_benefit_A_non_work_high_2[year] = get_ROH(GC_non_work_petrol_fuel_price_A[year], GC_non_work_petrol_fuel_price_A_O[year], GC_non_work_petrol_fuel_price_O[year], 0.947 * AADT__A_dict_high[year],  0.947 * AADT__A_O_dict_high[year],  0.947 * AADT__O_dict_high[year])\n",
    "    user_benefit_B_non_work_low_2[year] = get_ROH(GC_non_work_petrol_fuel_price_B[year], GC_non_work_petrol_fuel_price_B_O[year], GC_non_work_petrol_fuel_price_O[year], 0.947 * AADT__B_dict_low[year],  0.947 * AADT__B_O_dict_low[year],  0.947 * AADT__O_dict_low[year])\n",
    "    user_benefit_B_non_work_high_2[year] = get_ROH(GC_non_work_petrol_fuel_price_B[year], GC_non_work_petrol_fuel_price_B_O[year], GC_non_work_petrol_fuel_price_O[year], 0.947 * AADT__B_dict_high[year],  0.947 * AADT__B_O_dict_high[year],  0.947 * AADT__O_dict_high[year])\n",
    "\n",
    "    \n",
    "    "
   ]
  },
  {
   "cell_type": "markdown",
   "metadata": {},
   "source": [
    "考虑非燃料成本，非燃料成本居然也和车的类型有关……"
   ]
  },
  {
   "cell_type": "code",
   "execution_count": 1382,
   "metadata": {},
   "outputs": [],
   "source": [
    "C_65 = 4.966 + 135.946 / 65\n",
    "C_28 = 4.966 + 135.946 / 28\n",
    "C_22 = 4.966 + 135.946 / 22\n",
    "GC_work_non_fuel_price_A = {}\n",
    "GC_work_non_fuel_price_B = {}\n",
    "GC_work_non_fuel_price_A_O = {}\n",
    "GC_work_non_fuel_price_B_O = {}\n",
    "GC_work_non_fuel_price_O = {}\n",
    "\n",
    "for year in range(2031, 2091):\n",
    "    GC_work_non_fuel_price_A[year] = C_65 * road_length__A /100 # 除以100是从便士转换为镑\n",
    "    GC_work_non_fuel_price_B[year] = C_65 * road_length_B /100\n",
    "    GC_work_non_fuel_price_A_O[year] = C_28 * road_length__O /100\n",
    "    GC_work_non_fuel_price_B_O[year] = C_28 * road_length__O /100\n",
    "    GC_work_non_fuel_price_O[year] = C_22 * road_length__O /100\n",
    "\n",
    "user_benefit_work_non_fuel_A_low_2 = {}\n",
    "user_benefit_work_non_fuel_A_high_2 = {}\n",
    "user_benefit_work_non_fuel_B_low_2 = {}\n",
    "user_benefit_work_non_fuel_B_high_2 = {}\n",
    "\n",
    "for year in range(2031, 2091):\n",
    "    user_benefit_work_non_fuel_A_low_2[year] = get_ROH(GC_work_non_fuel_price_A[year], GC_work_non_fuel_price_A_O[year], \\\n",
    "                                                       GC_work_non_fuel_price_O[year], 0.053 *AADT__A_dict_low[year],  \\\n",
    "                                                        0.053 *AADT__A_O_dict_low[year],  0.053 *AADT__O_dict_low[year])\n",
    "    user_benefit_work_non_fuel_A_high_2[year] = get_ROH(GC_work_non_fuel_price_A[year], GC_work_non_fuel_price_A_O[year], \\\n",
    "                                                        GC_work_non_fuel_price_O[year], 0.053 *AADT__A_dict_high[year],  \\\n",
    "                                                            0.053 *AADT__A_O_dict_high[year],  0.053 *AADT__O_dict_high[year])\n",
    "    user_benefit_work_non_fuel_B_low_2[year] = get_ROH(GC_work_non_fuel_price_B[year], GC_work_non_fuel_price_B_O[year], \\\n",
    "                                                       GC_work_non_fuel_price_O[year], 0.053 *AADT__B_dict_low[year],  \\\n",
    "                                                        0.053 *AADT__B_O_dict_low[year], 0.053 * AADT__O_dict_low[year])\n",
    "    user_benefit_work_non_fuel_B_high_2[year] = get_ROH(GC_work_non_fuel_price_B[year], GC_work_non_fuel_price_B_O[year],\\\n",
    "                                                       GC_work_non_fuel_price_O[year], 0.053 *AADT__B_dict_high[year],  \\\n",
    "                                                          0.053 *  AADT__B_O_dict_high[year], 0.053 * AADT__O_dict_high[year])\n",
    "    \n",
    "C_2 = 3.846\n",
    "GC_non_work_non_fuel_price_A = {}\n",
    "GC_non_work_non_fuel_price_B = {}\n",
    "GC_non_work_non_fuel_price_A_O = {}\n",
    "GC_non_work_non_fuel_price_B_O = {}\n",
    "GC_non_work_non_fuel_price_O = {}\n",
    "\n",
    "for year in range(2031, 2091):\n",
    "    GC_non_work_non_fuel_price_A[year] = C_2 * road_length__A /100\n",
    "    GC_non_work_non_fuel_price_B[year] = C_2 * road_length_B /100\n",
    "    GC_non_work_non_fuel_price_A_O[year] = C_2 * road_length__O /100\n",
    "    GC_non_work_non_fuel_price_B_O[year] = C_2 * road_length__O /100\n",
    "    GC_non_work_non_fuel_price_O[year] = C_2 * road_length__O /100\n",
    "\n",
    "user_benefit_A_non_work_non_fuel_low_2 = {}\n",
    "user_benefit_A_non_work_non_fuel_high_2 = {}\n",
    "user_benefit_B_non_work_non_fuel_low_2 = {}\n",
    "user_benefit_B_non_work_non_fuel_high_2 = {}\n",
    "\n",
    "for year in range(2031, 2091):\n",
    "    user_benefit_A_non_work_non_fuel_low_2[year] = (GC_non_work_non_fuel_price_A[year] * 0.947 * AADT__A_dict_low[year] + \\\n",
    "                                                    GC_non_work_non_fuel_price_A_O[year]\\\n",
    "                                                   * 0.947 * AADT__A_O_dict_low[year] - GC_non_work_non_fuel_price_O[year] * \\\n",
    "                                                    0.947 * AADT__O_dict_low[year]) * 365.25\n",
    "    user_benefit_A_non_work_non_fuel_high_2[year] = (GC_non_work_non_fuel_price_A[year] * 0.947 * AADT__A_dict_high[year] + GC_non_work_non_fuel_price_A_O[year]\\\n",
    "                                                    * 0.947 * AADT__A_O_dict_high[year] - GC_non_work_non_fuel_price_O[year] \\\n",
    "                                                        * 0.947 * AADT__O_dict_high[year]) * 365.25\n",
    "    user_benefit_B_non_work_non_fuel_low_2[year] = (GC_non_work_non_fuel_price_B[year] * 0.947 * AADT__B_dict_low[year] + \\\n",
    "                                                    GC_non_work_non_fuel_price_B_O[year]\\\n",
    "                                                    * 0.947 * AADT__B_O_dict_low[year] - GC_non_work_non_fuel_price_O[year] * \\\n",
    "                                                       0.947 *  AADT__O_dict_low[year]) * 365.25\n",
    "    user_benefit_B_non_work_non_fuel_high_2[year] = (GC_non_work_non_fuel_price_B[year] * 0.947 * AADT__B_dict_high[year] + \\\n",
    "                                                     GC_non_work_non_fuel_price_B_O[year]\\\n",
    "                                                     * 0.947 * AADT__B_O_dict_high[year] - GC_non_work_non_fuel_price_O[year] * \\\n",
    "                                                        0.947 * AADT__O_dict_high[year]) * 365.25\n",
    "    \n"
   ]
  },
  {
   "cell_type": "markdown",
   "metadata": {},
   "source": [
    "考虑间接税"
   ]
  },
  {
   "cell_type": "code",
   "execution_count": 1383,
   "metadata": {},
   "outputs": [
    {
     "name": "stdout",
     "output_type": "stream",
     "text": [
      "43885.48718003852\n"
     ]
    }
   ],
   "source": [
    "tf = 0.2\n",
    "# 计算间接税\n",
    "indirect_tax_A_low_2 = {}\n",
    "indirect_tax_A_high_2 = {}\n",
    "indirect_tax_B_low_2 = {}\n",
    "indirect_tax_B_high_2 = {}\n",
    "\n",
    "F_work_A_low_2 = {}\n",
    "F_work_A_high_2 = {}\n",
    "F_work_B_low_2 = {}\n",
    "F_work_B_high_2 = {}\n",
    "N_work_A_low_2 ={}\n",
    "N_work_A_high_2 = {}\n",
    "N_work_B_low_2 = {}\n",
    "N_work_B_high_2 = {}\n",
    "F_non_work_A_low_2 = {}\n",
    "F_non_work_A_high_2 = {}\n",
    "F_non_work_B_low_2 = {}\n",
    "F_non_work_B_high_2 = {}\n",
    "N_non_work_A_low_2 = {}\n",
    "N_non_work_A_high_2 = {}\n",
    "N_non_work_B_low_2 = {}\n",
    "N_non_work_B_high_2 = {}\n",
    "\n",
    "for year in range(2031, 2091):\n",
    "    F_work_A_low_2[year] = get_ROH(GC_work_petrol_fuel_price_A[year], \\\n",
    "                                GC_work_petrol_fuel_price_A_O[year], \\\n",
    "                                GC_work_petrol_fuel_price_O[year], \\\n",
    "                                0.053 * AADT__A_dict_low[year],  \\\n",
    "                                0.053 * AADT__A_O_dict_low[year],  \\\n",
    "                                0.053 * AADT__O_dict_low[year])\n",
    "\n",
    "    F_work_A_high_2[year] = get_ROH(GC_work_petrol_fuel_price_A[year], \\\n",
    "                                    GC_work_petrol_fuel_price_A_O[year], \\\n",
    "                                    GC_work_petrol_fuel_price_O[year], \\\n",
    "                                    0.053 * AADT__A_dict_high[year],  \\\n",
    "                                    0.053 * AADT__A_O_dict_high[year],  \\\n",
    "                                    0.053 * AADT__O_dict_high[year])\n",
    "\n",
    "    F_work_B_low_2[year] = get_ROH(GC_work_petrol_fuel_price_B[year], \\\n",
    "                                    GC_work_petrol_fuel_price_B_O[year], \\\n",
    "                                    GC_work_petrol_fuel_price_O[year], \\\n",
    "                                    0.053 * AADT__B_dict_low[year],  \\\n",
    "                                    0.053 * AADT__B_O_dict_low[year],  \\\n",
    "                                    0.053 * AADT__O_dict_low[year])\n",
    "\n",
    "    F_work_B_high_2[year] = get_ROH(GC_work_petrol_fuel_price_B[year], \\\n",
    "                                    GC_work_petrol_fuel_price_B_O[year], \\\n",
    "                                    GC_work_petrol_fuel_price_O[year], \\\n",
    "                                    0.053 * AADT__B_dict_high[year],  \\\n",
    "                                    0.053 * AADT__B_O_dict_high[year],  \\\n",
    "                                    0.053 * AADT__O_dict_high[year])\n",
    "\n",
    "    N_work_A_low_2[year] = get_ROH(GC_work_non_fuel_price_A[year], \\\n",
    "                                    GC_work_non_fuel_price_A_O[year], \\\n",
    "                                    GC_work_non_fuel_price_O[year], \\\n",
    "                                    0.053 * AADT__A_dict_low[year],  \\\n",
    "                                    0.053 * AADT__A_O_dict_low[year],  \\\n",
    "                                    0.053 * AADT__O_dict_low[year])\n",
    "\n",
    "    N_work_A_high_2[year] = get_ROH(GC_work_non_fuel_price_A[year], \\\n",
    "                                    GC_work_non_fuel_price_A_O[year], \\\n",
    "                                    GC_work_non_fuel_price_O[year], \\\n",
    "                                    0.053 * AADT__A_dict_high[year],  \\\n",
    "                                    0.053 * AADT__A_O_dict_high[year],  \\\n",
    "                                    0.053 * AADT__O_dict_high[year])\n",
    "\n",
    "    N_work_B_low_2[year] = get_ROH(GC_work_non_fuel_price_B[year], \\\n",
    "                                    GC_work_non_fuel_price_B_O[year], \\\n",
    "                                    GC_work_non_fuel_price_O[year], \\\n",
    "                                    0.053 * AADT__B_dict_low[year],  \\\n",
    "                                    0.053 * AADT__B_O_dict_low[year],  \\\n",
    "                                    0.053 * AADT__O_dict_low[year])\n",
    "\n",
    "    N_work_B_high_2[year] = get_ROH(GC_work_non_fuel_price_B[year], \\\n",
    "                                    GC_work_non_fuel_price_B_O[year], \\\n",
    "                                    GC_work_non_fuel_price_O[year], \\\n",
    "                                    0.053 * AADT__B_dict_high[year],  \\\n",
    "                                    0.053 * AADT__B_O_dict_high[year],  \\\n",
    "                                    0.053 * AADT__O_dict_high[year])\n",
    "\n",
    "    F_non_work_A_low_2[year] = get_ROH(GC_non_work_petrol_fuel_price_A[year], \\\n",
    "                                        GC_non_work_petrol_fuel_price_A_O[year], \\\n",
    "                                        GC_non_work_petrol_fuel_price_O[year], \\\n",
    "                                        0.947 * AADT__A_dict_low[year],  \\\n",
    "                                        0.947 * AADT__A_O_dict_low[year],  \\\n",
    "                                        0.947 * AADT__O_dict_low[year])\n",
    "\n",
    "    F_non_work_A_high_2[year] = get_ROH(GC_non_work_petrol_fuel_price_A[year], \\\n",
    "                                        GC_non_work_petrol_fuel_price_A_O[year], \\\n",
    "                                        GC_non_work_petrol_fuel_price_O[year], \\\n",
    "                                        0.947 * AADT__A_dict_high[year],  \\\n",
    "                                        0.947 * AADT__A_O_dict_high[year],  \\\n",
    "                                        0.947 * AADT__O_dict_high[year])\n",
    "\n",
    "    F_non_work_B_low_2[year] = get_ROH(GC_non_work_petrol_fuel_price_B[year], \\\n",
    "                                        GC_non_work_petrol_fuel_price_B_O[year], \\\n",
    "                                        GC_non_work_petrol_fuel_price_O[year], \\\n",
    "                                        0.947 * AADT__B_dict_low[year],  \\\n",
    "                                        0.947 * AADT__B_O_dict_low[year],  \\\n",
    "                                        0.947 * AADT__O_dict_low[year])\n",
    "\n",
    "    F_non_work_B_high_2[year] = get_ROH(GC_non_work_petrol_fuel_price_B[year], \\\n",
    "                                        GC_non_work_petrol_fuel_price_B_O[year], \\\n",
    "                                        GC_non_work_petrol_fuel_price_O[year], \\\n",
    "                                        0.947 * AADT__B_dict_high[year],  \\\n",
    "                                        0.947 * AADT__B_O_dict_high[year],  \\\n",
    "                                        0.947 * AADT__O_dict_high[year])\n",
    "\n",
    "    N_non_work_A_low_2[year] = get_ROH(GC_non_work_non_fuel_price_A[year], \\\n",
    "                                        GC_non_work_non_fuel_price_A_O[year], \\\n",
    "                                        GC_non_work_non_fuel_price_O[year], \\\n",
    "                                        0.947 * AADT__A_dict_low[year],  \\\n",
    "                                        0.947 * AADT__A_O_dict_low[year],  \\\n",
    "                                        0.947 * AADT__O_dict_low[year])\n",
    "\n",
    "    N_non_work_A_high_2[year] = get_ROH(GC_non_work_non_fuel_price_A[year], \\\n",
    "                                        GC_non_work_non_fuel_price_A_O[year], \\\n",
    "                                        GC_non_work_non_fuel_price_O[year], \\\n",
    "                                        0.947 * AADT__A_dict_high[year],  \\\n",
    "                                        0.947 * AADT__A_O_dict_high[year],  \\\n",
    "                                        0.947 * AADT__O_dict_high[year])\n",
    "\n",
    "    N_non_work_B_low_2[year] = get_ROH(GC_non_work_non_fuel_price_B[year], \\\n",
    "                                        GC_non_work_non_fuel_price_B_O[year], \\\n",
    "                                        GC_non_work_non_fuel_price_O[year], \\\n",
    "                                        0.947 * AADT__B_dict_low[year],  \\\n",
    "                                        0.947 * AADT__B_O_dict_low[year],  \\\n",
    "                                        0.947 * AADT__O_dict_low[year])\n",
    "\n",
    "    N_non_work_B_high_2[year] = get_ROH(GC_non_work_non_fuel_price_B[year], \\\n",
    "                                        GC_non_work_non_fuel_price_B_O[year], \\\n",
    "                                        GC_non_work_non_fuel_price_O[year], \\\n",
    "                                        0.947 * AADT__B_dict_high[year],  \\\n",
    "                                        0.947 * AADT__B_O_dict_high[year],  \\\n",
    "                                        0.947 * AADT__O_dict_high[year])\n",
    "\n",
    "for year in range(2031, 2091):\n",
    "    indirect_tax_A_low_2[year] = calculate_tax(1, F_work_A_low_2[year], N_work_A_low_2[year]) + calculate_tax(0, F_non_work_A_low_2[year], N_non_work_A_low_2[year])\n",
    "    indirect_tax_A_high_2[year] = calculate_tax(1, F_work_A_high_2[year], N_work_A_high_2[year]) + calculate_tax(0, F_non_work_A_high_2[year], N_non_work_A_high_2[year])\n",
    "    indirect_tax_B_low_2[year] = calculate_tax(1, F_work_B_low_2[year], N_work_B_low_2[year]) + calculate_tax(0, F_non_work_B_low_2[year], N_non_work_B_low_2[year])\n",
    "    indirect_tax_B_high_2[year] = calculate_tax(1, F_work_B_high_2[year], N_work_B_high_2[year]) + calculate_tax(0, F_non_work_B_high_2[year], N_non_work_B_high_2[year])\n",
    "\n",
    "print(indirect_tax_A_low_2[2090])"
   ]
  },
  {
   "cell_type": "markdown",
   "metadata": {},
   "source": [
    "最后整合起来"
   ]
  },
  {
   "cell_type": "code",
   "execution_count": 1384,
   "metadata": {},
   "outputs": [],
   "source": [
    "benefit_A_low_2 = discount_to_2030(user_benefit_A_work_low_2, 2090) + discount_to_2030(user_benefit_A_non_work_low_2, 2090) \\\n",
    "    + discount_to_2030(user_benefit_A_emission_low_2, 2090) + discount_to_2030(user_benefit_A_non_work_non_fuel_low_2, 2090) \\\n",
    "        - discount_to_2030(indirect_tax_A_low_2, 2090)\n",
    "benefit_A_high_2 = discount_to_2030(user_benefit_A_work_high_2, 2090) + discount_to_2030(user_benefit_A_non_work_high_2, 2090) \\\n",
    "    + discount_to_2030(user_benefit_A_emission_high_2, 2090) + discount_to_2030(user_benefit_A_non_work_non_fuel_high_2, 2090) \\\n",
    "        - discount_to_2030(indirect_tax_A_high_2, 2090)\n",
    "cost_A_2 = construction_cost__A_modified + discount_to_2030(maintainance_cost_A_dict, 2090)\n",
    "benefit_B_low_2 = discount_to_2030(user_benefit_B_work_low_2, 2090) + discount_to_2030(user_benefit_B_non_work_low_2, 2090) \\\n",
    "    + discount_to_2030(user_benefit_B_emission_low_2, 2090) + discount_to_2030(user_benefit_B_non_work_non_fuel_low_2, 2090) \\\n",
    "        - discount_to_2030(indirect_tax_B_low_2, 2090)\n",
    "benefit_B_high_2 = discount_to_2030(user_benefit_B_work_high_2, 2090) + discount_to_2030(user_benefit_B_non_work_high_2, 2090) \\\n",
    "    + discount_to_2030(user_benefit_B_emission_high_2, 2090) + discount_to_2030(user_benefit_B_non_work_non_fuel_high_2, 2090) \\\n",
    "        - discount_to_2030(indirect_tax_B_high_2, 2090)\n",
    "cost_B_2 = construction_cost__B_modified + discount_to_2030(maintainance_cost_B_dict, 2090)\n",
    "\n",
    "benefits_A_low_2 = {}\n",
    "benefits_A_high_2 = {}\n",
    "benefits_B_low_2 = {}\n",
    "benefits_B_high_2 = {}\n",
    "\n",
    "for year in range(2031, 2091):\n",
    "    benefits_A_low_2[year] = discount_to_2030(user_benefit_A_work_low_2, year) + discount_to_2030(user_benefit_A_non_work_low_2, year) \\\n",
    "    + discount_to_2030(user_benefit_A_emission_low_2, year) + discount_to_2030(user_benefit_A_non_work_non_fuel_low_2, year) \\\n",
    "        - discount_to_2030(indirect_tax_A_low_2, year)\n",
    "    benefits_A_high_2[year] = discount_to_2030(user_benefit_A_work_high_2, year) + discount_to_2030(user_benefit_A_non_work_high_2, year) \\\n",
    "    + discount_to_2030(user_benefit_A_emission_high_2, year) + discount_to_2030(user_benefit_A_non_work_non_fuel_high_2, year) \\\n",
    "        - discount_to_2030(indirect_tax_A_high_2, year)\n",
    "    benefits_B_low_2[year] = discount_to_2030(user_benefit_B_work_low_2, year) + discount_to_2030(user_benefit_B_non_work_low_2, year) \\\n",
    "    + discount_to_2030(user_benefit_B_emission_low_2, year) + discount_to_2030(user_benefit_B_non_work_non_fuel_low_2, year) \\\n",
    "        - discount_to_2030(indirect_tax_B_low_2, year)\n",
    "    benefits_B_high_2[year] = discount_to_2030(user_benefit_B_work_high_2, year) + discount_to_2030(user_benefit_B_non_work_high_2, year) \\\n",
    "    + discount_to_2030(user_benefit_B_emission_high_2, year) + discount_to_2030(user_benefit_B_non_work_non_fuel_high_2, year) \\\n",
    "        - discount_to_2030(indirect_tax_B_high_2, year)\n",
    "    \n",
    "\n"
   ]
  },
  {
   "cell_type": "code",
   "execution_count": 1385,
   "metadata": {},
   "outputs": [
    {
     "name": "stdout",
     "output_type": "stream",
     "text": [
      "398832021.5902845, 463597740.9574793, 250301467.6481173, 290796212.12253433\n",
      "145943436.49927253, 145943436.49927253, 124920970.74927253, 124920970.74927253\n"
     ]
    }
   ],
   "source": [
    "PVB_A_low = benefit_A_low_2\n",
    "PVB_A_high = benefit_A_high_2\n",
    "PVB_B_low = benefit_B_low_2\n",
    "PVB_B_high = benefit_B_high_2\n",
    "PVC_A_low = cost_A_2\n",
    "PVC_A_high = cost_A_2\n",
    "PVC_B_low = cost_B_2\n",
    "PVC_B_high = cost_B_2\n",
    "\n",
    "print(f\"{PVB_A_low}, {PVB_A_high}, {PVB_B_low}, {PVB_B_high}\")\n",
    "print(f\"{PVC_A_low}, {PVC_A_high}, {PVC_B_low}, {PVC_B_high}\")"
   ]
  },
  {
   "cell_type": "code",
   "execution_count": 1386,
   "metadata": {},
   "outputs": [
    {
     "name": "stdout",
     "output_type": "stream",
     "text": [
      "     NPV_A_low:   252888585.09\n",
      "    NPV_A_high:   317654304.46\n",
      "     NPV_B_low:   125380496.90\n",
      "    NPV_B_high:   165875241.37\n"
     ]
    }
   ],
   "source": [
    "NPV_A_low = benefit_A_low_2 - cost_A_2\n",
    "NPV_A_high = benefit_A_high_2 - cost_A_2\n",
    "NPV_B_low = benefit_B_low_2 - cost_B_2\n",
    "NPV_B_high = benefit_B_high_2 - cost_B_2\n",
    "# 格式化构成结果的各项和结果,数值靠右对齐\n",
    "print(f\"{'NPV_A_low:':>15}{NPV_A_low:>15.2f}\")\n",
    "print(f\"{'NPV_A_high:':>15}{NPV_A_high:>15.2f}\")\n",
    "print(f\"{'NPV_B_low:':>15}{NPV_B_low:>15.2f}\")\n",
    "print(f\"{'NPV_B_high:':>15}{NPV_B_high:>15.2f}\")"
   ]
  },
  {
   "cell_type": "code",
   "execution_count": 1387,
   "metadata": {},
   "outputs": [
    {
     "name": "stdout",
     "output_type": "stream",
     "text": [
      "     BCR_A_low:            2.73\n",
      "    BCR_A_high:            3.18\n",
      "     BCR_B_low:            2.00\n",
      "    BCR_B_high:            2.33\n"
     ]
    }
   ],
   "source": [
    "BCR_A_low = benefit_A_low_2 / cost_A_2\n",
    "BCR_A_high = benefit_A_high_2 / cost_A_2\n",
    "BCR_B_low = benefit_B_low_2 / cost_B_2\n",
    "BCR_B_high = benefit_B_high_2 / cost_B_2\n",
    "print(f\"{'BCR_A_low:':>15} {BCR_A_low:>15.2f}\")\n",
    "print(f\"{'BCR_A_high:':>15} {BCR_A_high:>15.2f}\")\n",
    "print(f\"{'BCR_B_low:':>15} {BCR_B_low:>15.2f}\")\n",
    "print(f\"{'BCR_B_high:':>15} {BCR_B_high:>15.2f}\")"
   ]
  },
  {
   "cell_type": "code",
   "execution_count": 1388,
   "metadata": {},
   "outputs": [
    {
     "name": "stdout",
     "output_type": "stream",
     "text": [
      "     IRR_A_low:          28.53%\n",
      "    IRR_A_high:          29.13%\n",
      "     IRR_B_low:          23.82%\n",
      "    IRR_B_high:          24.38%\n"
     ]
    }
   ],
   "source": [
    "import numpy_financial as npf\n",
    "\n",
    "cash_flows_A_low = [-construction_cost__A_modified] + [benefits_A_low_2[year] - maintainance_cost_A_dict[year] for year in range(2031, 2091)]\n",
    "cash_flows_A_high = [-construction_cost__A_modified] + [benefits_A_high_2[year] - maintainance_cost_A_dict[year] for year in range(2031, 2091)]\n",
    "cash_flows_B_low = [-construction_cost__B_modified] + [benefits_B_low_2[year] - maintainance_cost_B_dict[year] for year in range(2031, 2091)]\n",
    "cash_flows_B_high = [-construction_cost__B_modified] + [benefits_B_high_2[year] - maintainance_cost_B_dict[year] for year in range(2031, 2091)]\n",
    "\n",
    "irr_flows_A_low = npf.irr(cash_flows_A_low)\n",
    "irr_flows_A_high = npf.irr(cash_flows_A_high)\n",
    "irr_flows_B_low = npf.irr(cash_flows_B_low)\n",
    "irr_flows_B_high = npf.irr(cash_flows_B_high)\n",
    "\n",
    "print(f\"{'IRR_A_low:':>15} {irr_flows_A_low:>15.2%}\")\n",
    "print(f\"{'IRR_A_high:':>15} {irr_flows_A_high:>15.2%}\")\n",
    "print(f\"{'IRR_B_low:':>15} {irr_flows_B_low:>15.2%}\")\n",
    "print(f\"{'IRR_B_high:':>15} {irr_flows_B_high:>15.2%}\")"
   ]
  },
  {
   "cell_type": "code",
   "execution_count": 1389,
   "metadata": {},
   "outputs": [
    {
     "name": "stdout",
     "output_type": "stream",
     "text": [
      "Payback_Period_A_low: 2035\n",
      "Payback_Period_A_high: 2035\n",
      "Payback_Period_B_low: 2036\n",
      "Payback_Period_B_high: 2036\n"
     ]
    }
   ],
   "source": [
    "def calculate_Payback_Period(benefits, costs, constant_cost):\n",
    "    for year in range(2031, 2091):\n",
    "        total_benefit = discount_to_2030(benefits, year)\n",
    "        total_cost = discount_to_2030(costs, year) + constant_cost\n",
    "        if total_benefit > total_cost:\n",
    "            return year - 1\n",
    "\n",
    "Payback_Period_A_low = calculate_Payback_Period(benefits_A_low_2, maintainance_cost_A_dict, construction_cost__A_modified)\n",
    "Payback_Period_A_high = calculate_Payback_Period(benefits_A_high_2, maintainance_cost_A_dict, construction_cost__A_modified)\n",
    "Payback_Period_B_low = calculate_Payback_Period(benefits_B_low_2, maintainance_cost_B_dict, construction_cost__B_modified)\n",
    "Payback_Period_B_high = calculate_Payback_Period(benefits_B_high_2, maintainance_cost_B_dict, construction_cost__B_modified)\n",
    "print('Payback_Period_A_low:', Payback_Period_A_low)\n",
    "print('Payback_Period_A_high:', Payback_Period_A_high)\n",
    "print('Payback_Period_B_low:', Payback_Period_B_low)\n",
    "print('Payback_Period_B_high:', Payback_Period_B_high)"
   ]
  },
  {
   "cell_type": "code",
   "execution_count": 1390,
   "metadata": {},
   "outputs": [
    {
     "name": "stdout",
     "output_type": "stream",
     "text": [
      "FYRR_A_low: 0.065576868157415\n",
      "FYRR_A_high: 0.06579186274311667\n",
      "FYRR_B_low: 0.0478619717031628\n",
      "FYRR_B_high: 0.04796499132027147\n"
     ]
    }
   ],
   "source": [
    "benefit_A_low_2031 = benefits_A_low_2[2031]\n",
    "benefit_A_high_2031 = benefits_A_high_2[2031]\n",
    "benefit_B_low_2031 = benefits_B_low_2[2031]\n",
    "benefit_B_high_2031 = benefits_B_high_2[2031]\n",
    "cost_A_2031 = maintainance_cost_A_dict[2031] \n",
    "cost_B_2031 = maintainance_cost_B_dict[2031]\n",
    "initial_cost_A = construction_cost__A_modified\n",
    "initial_cost_B = construction_cost__B_modified\n",
    "fyrr_A_low = (benefit_A_low_2031 - cost_A_2031) / initial_cost_A\n",
    "fyrr_A_high = (benefit_A_high_2031 - cost_A_2031) / initial_cost_A\n",
    "fyrr_B_low = (benefit_B_low_2031 - cost_B_2031) / initial_cost_B\n",
    "fyrr_B_high = (benefit_B_high_2031 - cost_B_2031) / initial_cost_B\n",
    "print('FYRR_A_low:', fyrr_A_low)\n",
    "print('FYRR_A_high:', fyrr_A_high)\n",
    "print('FYRR_B_low:', fyrr_B_low)\n",
    "print('FYRR_B_high:', fyrr_B_high)"
   ]
  },
  {
   "cell_type": "code",
   "execution_count": 1391,
   "metadata": {},
   "outputs": [
    {
     "name": "stdout",
     "output_type": "stream",
     "text": [
      "                       A_low        A_high         B_low        B_high\n",
      "PVC             1.459434e+08  1.459434e+08  1.249210e+08  1.249210e+08\n",
      "PVB             3.988320e+08  4.635977e+08  2.503015e+08  2.907962e+08\n",
      "NPV             2.528886e+08  3.176543e+08  1.253805e+08  1.658752e+08\n",
      "BCR             2.732785e+00  3.176558e+00  2.003679e+00  2.327841e+00\n",
      "IRR             2.853156e-01  2.912928e-01  2.382377e-01  2.438347e-01\n",
      "Payback_Period  2.035000e+03  2.035000e+03  2.036000e+03  2.036000e+03\n",
      "FYRR            6.557687e-02  6.579186e-02  4.786197e-02  4.796499e-02\n"
     ]
    }
   ],
   "source": [
    "'''\n",
    "现在做一个总的汇总表，包含题目要求的各量：\n",
    "\n",
    "1. PVC\n",
    "2. PVB\n",
    "3. NPV\n",
    "4. BCR\n",
    "5. IRR\n",
    "6. FYRR\n",
    "7. Pay_back_Period\n",
    "'''\n",
    "import pandas as pd\n",
    "\n",
    "data = {\n",
    "    'A_low': [PVC_A_low, PVB_A_low, NPV_A_low, BCR_A_low, irr_flows_A_low, Payback_Period_A_low, fyrr_A_low],\n",
    "    'A_high': [PVC_A_high, PVB_A_high, NPV_A_high, BCR_A_high, irr_flows_A_high, Payback_Period_A_high, fyrr_A_high],\n",
    "    'B_low': [PVC_B_low, PVB_B_low, NPV_B_low, BCR_B_low, irr_flows_B_low, Payback_Period_B_low, fyrr_B_low],\n",
    "    'B_high': [PVC_B_high, PVB_B_high, NPV_B_high, BCR_B_high, irr_flows_B_high, Payback_Period_B_high, fyrr_B_high]\n",
    "}\n",
    "\n",
    "df = pd.DataFrame(data, index=['PVC', 'PVB', 'NPV', 'BCR', 'IRR', 'Payback_Period', 'FYRR'])\n",
    "print(df)\n",
    "with pd.ExcelWriter('output_sum_2.xlsx') as writer:\n",
    "    df.to_excel(writer, sheet_name='Sheet1')"
   ]
  },
  {
   "cell_type": "code",
   "execution_count": 1392,
   "metadata": {},
   "outputs": [],
   "source": [
    "import pandas as pd\n",
    "\n",
    "# 初始化DataFrame\n",
    "years = sorted(list(benefits_A_low.keys()))\n",
    "df = pd.DataFrame(index=years)\n",
    "\n",
    "# 用户利益数据（避免重复赋值，直接在创建时填充）\n",
    "df_benefit_VOC = pd.DataFrame(index=df.index)\n",
    "df_benefit_VOC['VOC_benefit_A_work_low'] = df.index.map(user_benefit_A_work_low_2)\n",
    "df_benefit_VOC['VOC_benefit_A_work_high'] = df.index.map(user_benefit_A_work_high_2)\n",
    "df_benefit_VOC['VOC_benefit_B_work_low'] = df.index.map(user_benefit_B_work_low_2)\n",
    "df_benefit_VOC['VOC_benefit_B_work_high'] = df.index.map(user_benefit_B_work_high_2)\n",
    "df_benefit_VOC['VOC_benefit_A_non_work_low'] = df.index.map(user_benefit_A_non_work_low_2)\n",
    "df_benefit_VOC['VOC_benefit_A_non_work_high'] = df.index.map(user_benefit_A_non_work_high_2)\n",
    "df_benefit_VOC['VOC_benefit_B_non_work_low'] = df.index.map(user_benefit_B_non_work_low_2)\n",
    "df_benefit_VOC['VOC_benefit_B_non_work_high'] = df.index.map(user_benefit_B_non_work_high_2)\n",
    "df_benefit_VOC['VOC_beneift_non_fuel_non_work_A_low'] = df.index.map(user_benefit_A_non_work_non_fuel_low_2)\n",
    "df_benefit_VOC['VOC_beneift_non_fuel_non_work_A_high'] = df.index.map(user_benefit_A_non_work_non_fuel_high_2)\n",
    "df_benefit_VOC['VOC_beneift_non_fuel_non_work_B_low'] = df.index.map(user_benefit_B_non_work_non_fuel_low_2)\n",
    "df_benefit_VOC['VOC_beneift_non_fuel_non_work_B_high'] = df.index.map(user_benefit_B_non_work_non_fuel_high_2)\n",
    "df_benefit_emission = pd.DataFrame(index=df.index)\n",
    "df_benefit_emission['emission_benefit_A_low'] = df.index.map(user_benefit_A_emission_low_2)\n",
    "df_benefit_emission['emission_benefit_A_high'] = df.index.map(user_benefit_A_emission_high_2)\n",
    "df_benefit_emission['emission_benefit_B_low'] = df.index.map(user_benefit_B_emission_low_2)\n",
    "df_benefit_emission['emission_benefit_B_high'] = df.index.map(user_benefit_B_emission_high_2)\n",
    "df_benefit_indirect_tax = pd.DataFrame(index=df.index)\n",
    "df_benefit_indirect_tax['indirect_tax_benefit_A_low'] = df.index.map(indirect_tax_A_low_2)\n",
    "df_benefit_indirect_tax['indirect_tax_benefit_A_high'] = df.index.map(indirect_tax_A_high_2)\n",
    "df_benefit_indirect_tax['indirect_tax_benefit_B_low'] = df.index.map(indirect_tax_B_low_2)\n",
    "df_benefit_indirect_tax['indirect_tax_benefit_B_high'] = df.index.map(indirect_tax_B_high_2)\n",
    "\n",
    "\n",
    "# 其他数据可以以类似的方式创建专门的DataFrame\n",
    "df_cost = pd.DataFrame(index=df.index)\n",
    "df_cost['construction_cost__A'] = construction_cost__A_modified\n",
    "df_cost['construction_cost__B'] = construction_cost__B_modified \n",
    "df_cost['maintainance_cost_A'] = df.index.map(maintainance_cost_A_dict)\n",
    "df_cost['maintainance_cost_B'] = df.index.map(maintainance_cost_B_dict)\n",
    "\n",
    "\n",
    "# 注意：每个专门的DataFrame（例如df_AADT, df_GC, df_benefit等）可以根据需求单独保存或处理"
   ]
  },
  {
   "cell_type": "code",
   "execution_count": 1393,
   "metadata": {},
   "outputs": [],
   "source": [
    "# Excel文件路径\n",
    "excel_path = 'output_data_2.xlsx'\n",
    "\n",
    "# 使用ExcelWriter将DataFrame写入不同的工作表\n",
    "with pd.ExcelWriter(excel_path, engine='openpyxl', mode='w') as writer:\n",
    "    df_benefit_VOC.to_excel(writer, sheet_name='VOC Benefit Data', index=True)\n",
    "    df_benefit_emission.to_excel(writer, sheet_name='Emission Benefit Data', index=True)\n",
    "    df_benefit_indirect_tax.to_excel(writer, sheet_name='Indirect Tax Benefit Data', index=True)\n",
    "    df_cost.to_excel(writer, sheet_name='Cost Data', index=True)"
   ]
  },
  {
   "cell_type": "code",
   "execution_count": 1394,
   "metadata": {},
   "outputs": [],
   "source": [
    "import pandas as pd\n",
    "from openpyxl.utils import get_column_letter\n",
    "\n",
    "excel_path = 'output_data_2.xlsx'\n",
    "with pd.ExcelWriter(excel_path, engine='openpyxl', mode='w') as writer:\n",
    "    df_benefit_VOC.to_excel(writer, sheet_name='VOC Benefit Data', index=True)\n",
    "    df_benefit_emission.to_excel(writer, sheet_name='Emission Benefit Data', index=True)\n",
    "    df_benefit_indirect_tax.to_excel(writer, sheet_name='Indirect Tax Benefit Data', index=True)\n",
    "    df_cost.to_excel(writer, sheet_name='Cost Data', index=True)\n",
    "\n",
    "    workbook = writer.book\n",
    "    worksheet = workbook['VOC Benefit Data']\n",
    "    for col in worksheet.columns:\n",
    "        worksheet.column_dimensions[get_column_letter(col[0].column)].width = 40\n",
    "    worksheet = workbook['Emission Benefit Data']\n",
    "    for col in worksheet.columns:\n",
    "        worksheet.column_dimensions[get_column_letter(col[0].column)].width = 40\n",
    "    worksheet = workbook['Indirect Tax Benefit Data']\n",
    "    for col in worksheet.columns:\n",
    "        worksheet.column_dimensions[get_column_letter(col[0].column)].width = 40\n",
    "    worksheet = workbook['Cost Data']\n",
    "    for col in worksheet.columns:\n",
    "        worksheet.column_dimensions[get_column_letter(col[0].column)].width = 40"
   ]
  }
 ],
 "metadata": {
  "kernelspec": {
   "display_name": "base",
   "language": "python",
   "name": "python3"
  },
  "language_info": {
   "codemirror_mode": {
    "name": "ipython",
    "version": 3
   },
   "file_extension": ".py",
   "mimetype": "text/x-python",
   "name": "python",
   "nbconvert_exporter": "python",
   "pygments_lexer": "ipython3",
   "version": "3.10.13"
  }
 },
 "nbformat": 4,
 "nbformat_minor": 2
}
