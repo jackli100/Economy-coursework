{
 "cells": [
  {
   "cell_type": "markdown",
   "metadata": {},
   "source": [
    "1. 确定基本的变量（即data sheet）"
   ]
  },
  {
   "cell_type": "code",
   "execution_count": 319,
   "metadata": {},
   "outputs": [],
   "source": [
    "# scheme O\n",
    "road_length__O = 5 # km\n",
    "average_speed__O = 22 # km/h\n",
    "AADT__O = 15000 # vehicles/day\n",
    "\n",
    "# scheme A\n",
    "road_length__A = 9 # km\n",
    "average_speed__A = 65 # km/h\n",
    "average_speed__A_O = 28 # km/h\n",
    "AADT__A = 13000 # vehicles/day\n",
    "AADT__A_O = 4000 # vehicles/day\n",
    "construction_cost__A = 90000000 # pounds\n",
    "maintainance_cost_A = 10000 # pounds/year\n",
    "\n",
    "# scheme B\n",
    "road_length_B = 11 # km\n",
    "average_speed__B = 65 # km/h\n",
    "average_speed_B_O = 28 # km/h\n",
    "AADT__B = 13500 # vehicles/day\n",
    "AADT__B_O = 3500 # vehicles/day\n",
    "construction_cost__B = 77000000 # pounds\n",
    "maintenance_cost__B = 10000 # pounds/year\n",
    "\n",
    "# low growth scenario\n",
    "growth_rate__low = 0.01 # per year\n",
    "\n",
    "# high growth scenario\n",
    "growth_rate__high = 0.02 # per year\n"
   ]
  },
  {
   "cell_type": "markdown",
   "metadata": {},
   "source": [
    "计算不同年份的AADT，存储成一个字典"
   ]
  },
  {
   "cell_type": "code",
   "execution_count": 320,
   "metadata": {},
   "outputs": [
    {
     "name": "stdout",
     "output_type": "stream",
     "text": [
      "18302.850599219506\n",
      "22289.210939675322\n",
      "15705.41635576591\n",
      "18938.545242861383\n"
     ]
    }
   ],
   "source": [
    "# 计算不同年份的AADT，存储成一个字典\n",
    "# 生成2031年到2090年的AADT\n",
    "AADT__O_dict_low = {}\n",
    "AADT__O_dict_high = {}\n",
    "AADT__A_dict_low = {}\n",
    "AADT__A_dict_high = {}\n",
    "AADT__A_O_dict_low = {}\n",
    "AADT__A_O_dict_high = {}\n",
    "AADT__B_dict_low = {}\n",
    "AADT__B_dict_high = {}\n",
    "AADT__B_O_dict_low = {}\n",
    "AADT__B_O_dict_high = {}\n",
    "# 前二十年增长，后面保持不变\n",
    "for year in range(2031, 2091):\n",
    "    if year - 2030 <= 20:\n",
    "        AADT__O_dict_low[year] = AADT__O * (1 + growth_rate__low) ** (year - 2030)\n",
    "        AADT__O_dict_high[year] = AADT__O * (1 + growth_rate__high) ** (year - 2030)\n",
    "        AADT__A_dict_low[year] = AADT__A * (1 + growth_rate__low) ** (year - 2031)\n",
    "        AADT__A_dict_high[year] = AADT__A * (1 + growth_rate__high) ** (year - 2031)\n",
    "        AADT__A_O_dict_low[year] = AADT__A_O * (1 + growth_rate__low) ** (year - 2031)\n",
    "        AADT__A_O_dict_high[year] = AADT__A_O * (1 + growth_rate__high) ** (year - 2031)\n",
    "        AADT__B_dict_low[year] = AADT__B * (1 + growth_rate__low) ** (year - 2031)\n",
    "        AADT__B_dict_high[year] = AADT__B * (1 + growth_rate__high) ** (year - 2031)\n",
    "        AADT__B_O_dict_low[year] = AADT__B_O * (1 + growth_rate__low) ** (year - 2031)\n",
    "        AADT__B_O_dict_high[year] = AADT__B_O * (1 + growth_rate__high) ** (year - 2031)\n",
    "    else:\n",
    "        AADT__O_dict_low[year] = AADT__O * (1 + growth_rate__low) ** 20\n",
    "        AADT__O_dict_high[year] = AADT__O * (1 + growth_rate__high) ** 20\n",
    "        AADT__A_dict_low[year] = AADT__A * (1 + growth_rate__low) ** 19\n",
    "        AADT__A_dict_high[year] = AADT__A * (1 + growth_rate__high) ** 19\n",
    "        AADT__A_O_dict_low[year] = AADT__A_O * (1 + growth_rate__low) ** 19\n",
    "        AADT__A_O_dict_high[year] = AADT__A_O * (1 + growth_rate__high) ** 19\n",
    "        AADT__B_dict_low[year] = AADT__B * (1 + growth_rate__low) ** 19\n",
    "        AADT__B_dict_high[year] = AADT__B * (1 + growth_rate__high) ** 19\n",
    "        AADT__B_O_dict_low[year] = AADT__B_O * (1 + growth_rate__low) ** 19\n",
    "        AADT__B_O_dict_high[year] = AADT__B_O * (1 + growth_rate__high) ** 19\n",
    "\n",
    "        \n",
    "\n",
    "# 展示2090年的AADT\n",
    "print(AADT__O_dict_low[2090])\n",
    "print(AADT__O_dict_high[2090])\n",
    "print(AADT__A_dict_low[2090])\n",
    "print(AADT__A_dict_high[2090])"
   ]
  },
  {
   "cell_type": "markdown",
   "metadata": {},
   "source": [
    "计算GC中旅行时间节省的部分；\n",
    "这里工作和非工作的数值是一致的，故不区分"
   ]
  },
  {
   "cell_type": "code",
   "execution_count": 321,
   "metadata": {},
   "outputs": [
    {
     "data": {
      "text/plain": [
       "6.945639388876915"
      ]
     },
     "execution_count": 321,
     "metadata": {},
     "output_type": "execute_result"
    }
   ],
   "source": [
    "the_all_week_value_of_time_for_an_average_car = 10.79 # pounds/h\n",
    "the_coefficient_of_converting_time_to_2030 = 1.5893 # using the GDP deflator\n",
    "the_value_of_time_2030 = the_all_week_value_of_time_for_an_average_car * the_coefficient_of_converting_time_to_2030\n",
    "Income_growth_previous_efficiency = 125.57 / 104.88 # using the annual parameters in WebTAG\n",
    "the_value_of_time_2030 = the_value_of_time_2030 * Income_growth_previous_efficiency\n",
    "long_term_growth_rate = 0.015\n",
    "the_value_of_time_dict = {}\n",
    "for year in range(2031, 2091):\n",
    "    the_value_of_time_dict[year] = the_value_of_time_2030 * (1 + long_term_growth_rate) ** (year - 2030)    \n",
    "the_value_of_time_dict[2090]\n",
    "# 定义关于旅行时间的感知成本\n",
    "GC_for_journey_time_O = {}\n",
    "GC_for_journey_time_A = {}\n",
    "GC_for_journey_time_A_O = {}\n",
    "GC_for_journey_time_B = {}\n",
    "GC_for_journey_time_B_O = {}\n",
    "\n",
    "for year in range(2031, 2091):\n",
    "    GC_for_journey_time_O[year] = the_value_of_time_dict[year] * road_length__O / average_speed__O\n",
    "    GC_for_journey_time_A[year] = the_value_of_time_dict[year] * road_length__A / average_speed__A\n",
    "    GC_for_journey_time_A_O[year] = the_value_of_time_dict[year] * road_length__O / average_speed__A_O\n",
    "    GC_for_journey_time_B[year] = the_value_of_time_dict[year] * road_length_B / average_speed__B\n",
    "    GC_for_journey_time_B_O[year] = the_value_of_time_dict[year] * road_length__O / average_speed_B_O\n",
    "\n",
    "\n",
    "GC_for_journey_time_A[2090]\n",
    "    \n"
   ]
  },
  {
   "cell_type": "markdown",
   "metadata": {},
   "source": [
    "计算GC中的燃料成本和非燃料成本，注意非工作非燃料成本不用半数法(先不考虑)，而非工作燃料成本其实等于工作燃料成本"
   ]
  },
  {
   "cell_type": "code",
   "execution_count": 322,
   "metadata": {},
   "outputs": [
    {
     "name": "stdout",
     "output_type": "stream",
     "text": [
      "[4.736242269285785, 4.80728590332507, 4.879395191874946, 4.952586119753071, 5.026874911549365]\n",
      "[2.8854645209802623, 2.928746488794966, 2.97267768612689, 3.0172678514187936, 3.062526869190075]\n",
      "[3.7213332115816877, 3.7771532097554124, 3.833810507901743, 3.8913176655202695, 3.9496874305030727]\n",
      "[3.526678858975876, 3.579579041860514, 3.6332727274884213, 3.6877718184007477, 3.7430883956767587]\n",
      "[3.7213332115816877, 3.7771532097554124, 3.833810507901743, 3.8913176655202695, 3.9496874305030727]\n"
     ]
    }
   ],
   "source": [
    "import csv\n",
    "\n",
    "# 初始化字典\n",
    "fuel_price_per_kwh = {}\n",
    "fuel_effieciency = {}\n",
    "emission_factor = {}\n",
    "money_value_of_emission = {}\n",
    "\n",
    "with open('voc.csv', mode='r', encoding='utf-8') as file:\n",
    "    reader = csv.reader(file)\n",
    "    next(reader)  # 跳过标题行\n",
    "    for rows in reader:\n",
    "        year = int(rows[0])\n",
    "        fuel_price_per_kwh[year] = float(rows[1])\n",
    "        fuel_effieciency[year] = float(rows[2])\n",
    "        emission_factor[year] = float(rows[3])\n",
    "        money_value_of_emission[year] = float(rows[4])\n",
    "\n",
    "GC_for_fuel_cost_O = {} \n",
    "GC_for_fuel_cost_A = {}\n",
    "GC_for_fuel_cost_B = {}\n",
    "\n",
    "for year in range(2031, 2091):\n",
    "    GC_for_fuel_cost_O[year] = fuel_price_per_kwh[year] * fuel_effieciency[year] * road_length__O * 1.5893\n",
    "    GC_for_fuel_cost_A[year] = fuel_price_per_kwh[year] * fuel_effieciency[year] * road_length__A * 1.5893\n",
    "    GC_for_fuel_cost_B[year] = fuel_price_per_kwh[year] * fuel_effieciency[year] * road_length_B * 1.5893\n",
    "\n",
    "def get_non_fuel_efficiency(type, velocity):\n",
    "    if type == '1':\n",
    "        return 1.157 + 135.946 / velocity\n",
    "    elif type == '0':\n",
    "        return 1.157 \n",
    "\n",
    "GC_for_non_fuel_non_Work_O = get_non_fuel_efficiency('0', average_speed__O) * road_length__O * 1.5893\n",
    "GC_for_non_fuel_non_Work_A = get_non_fuel_efficiency('0', average_speed__A) * road_length__A * 1.5893\n",
    "GC_for_non_fuel_non_Work_A_O = get_non_fuel_efficiency('0', average_speed__A_O) * road_length__O * 1.5893\n",
    "GC_for_non_fuel_non_Work_B = get_non_fuel_efficiency('0', average_speed__B) * road_length_B * 1.5893\n",
    "GC_for_non_fuel_non_Work_B_O = get_non_fuel_efficiency('0', average_speed_B_O) * road_length__O * 1.5893\n",
    "GC_for_non_fuel_work_O = get_non_fuel_efficiency('1', average_speed__O) * road_length__O* 1.5893\n",
    "GC_for_non_fuel_work_A = get_non_fuel_efficiency('1', average_speed__A) * road_length__A * 1.5893\n",
    "GC_for_non_fuel_work_A_O = get_non_fuel_efficiency('1', average_speed__A_O) * road_length__O * 1.5893\n",
    "GC_for_non_fuel_work_B = get_non_fuel_efficiency('1', average_speed__B) * road_length_B * 1.5893\n",
    "GC_for_non_fuel_work_B_O = get_non_fuel_efficiency('1', average_speed_B_O) * road_length__O * 1.5893\n",
    "\n",
    "GC_O_work = {}\n",
    "GC_A_work = {}\n",
    "GC_A_O_work = {}\n",
    "GC_B_work = {}\n",
    "GC_B_O_work = {}\n",
    "\n",
    "for year in range(2031, 2091):\n",
    "    GC_O_work[year] = GC_for_journey_time_O[year] + GC_for_fuel_cost_O[year] / 100 + GC_for_non_fuel_work_O /100\n",
    "    GC_A_work[year] = GC_for_journey_time_A[year] + GC_for_fuel_cost_A[year] / 100 + GC_for_non_fuel_work_A /100\n",
    "    GC_A_O_work[year] = GC_for_journey_time_A_O[year] + GC_for_fuel_cost_A[year] / 100 + GC_for_non_fuel_work_A_O /100\n",
    "    GC_B_work[year] = GC_for_journey_time_B[year] + GC_for_fuel_cost_B[year] / 100 + GC_for_non_fuel_work_B /100\n",
    "    GC_B_O_work[year] = GC_for_journey_time_B_O[year] + GC_for_fuel_cost_B[year] / 100 + GC_for_non_fuel_work_B_O /100\n",
    "\n",
    "print(list(GC_for_journey_time_O.values())[:5])\n",
    "print(list(GC_for_journey_time_A.values())[:5])\n",
    "print(list(GC_for_journey_time_A_O.values())[:5])\n",
    "print(list(GC_for_journey_time_B.values())[:5])\n",
    "print(list(GC_for_journey_time_B_O.values())[:5])\n",
    "\n",
    "    \n",
    "\n",
    "\n"
   ]
  },
  {
   "cell_type": "markdown",
   "metadata": {},
   "source": [
    "先只计算工作部分, 计算结果以英镑为单位"
   ]
  },
  {
   "cell_type": "code",
   "execution_count": 323,
   "metadata": {},
   "outputs": [],
   "source": [
    "# 根据ROH的公式计算user benefit\n",
    "def get_ROH(GC_new, GC_new_old, GC_old, AADT_new, AADT_new_old, AADT_old):\n",
    "    '''\n",
    "    GC_new: GC_A(B)\n",
    "    GC_new_old: GC_A(B)_O\n",
    "    GC_old: GC_O\n",
    "    AADT_new: AADT_A(B)\n",
    "    AADT_new_old: AADT_A(B)_O\n",
    "    AADT_old: AADT_O\n",
    "    '''\n",
    "    GC_average = (GC_new * AADT_new + GC_new_old * AADT_new_old) / (AADT_new + AADT_new_old)\n",
    "    return (GC_old - GC_average) * (AADT_new + AADT_new_old + AADT_old) / 2 * 365.25\n",
    "\n",
    "user_benefit_A_work_low = {}\n",
    "user_benefit_A_work_high = {}\n",
    "user_benefit_B_work_low = {}\n",
    "user_benefit_B_work_high = {}\n",
    "\n",
    "\n",
    "for year in range(2031, 2091):\n",
    "    user_benefit_A_work_low[year] = get_ROH(GC_A_work[year], GC_A_O_work[year], GC_O_work[year], 0.053 * AADT__A_dict_low[year], 0.053 * AADT__A_O_dict_low[year], 0.053 * AADT__O_dict_low[year])\n",
    "    user_benefit_A_work_high[year] = get_ROH(GC_A_work[year], GC_A_O_work[year], GC_O_work[year], 0.053 * AADT__A_dict_high[year], 0.053 * AADT__A_O_dict_high[year], 0.053 * AADT__O_dict_high[year])\n",
    "    user_benefit_B_work_low[year] = get_ROH(GC_B_work[year], GC_B_O_work[year], GC_O_work[year], 0.053 * AADT__B_dict_low[year], 0.053 * AADT__B_O_dict_low[year], 0.053 * AADT__O_dict_low[year])\n",
    "    user_benefit_B_work_high[year] = get_ROH(GC_B_work[year], GC_B_O_work[year], GC_O_work[year], 0.053 * AADT__B_dict_high[year], 0.053 * AADT__B_O_dict_high[year], 0.053 * AADT__O_dict_high[year])\n",
    "\n"
   ]
  },
  {
   "cell_type": "markdown",
   "metadata": {},
   "source": [
    "下面这部分考虑的是将未来收益折现到2030年"
   ]
  },
  {
   "cell_type": "code",
   "execution_count": 324,
   "metadata": {},
   "outputs": [
    {
     "name": "stdout",
     "output_type": "stream",
     "text": [
      "14224945.19950175\n"
     ]
    }
   ],
   "source": [
    "def discount_to_2030(values, end_year):\n",
    "    \"\"\"\n",
    "    对给定的每年收益按年折现到2030年。\n",
    "    对于距2030年30年内的年份使用3.5%的折现率，超过30年的部分使用3%的折现率。\n",
    "    \n",
    "    参数:\n",
    "    values: 一个字典，键为年份，值为那一年的收益。\n",
    "    \n",
    "    返回:\n",
    "    2030年的折现总值。\n",
    "    \"\"\"\n",
    "    discount_value = 0  # 初始化折现后的总值\n",
    "    for year, value in values.items():\n",
    "        if year > end_year:\n",
    "            continue\n",
    "\n",
    "        years_diff = year - 2030  # 计算与2030年的年差\n",
    "        if years_diff <= 30:\n",
    "            # 对于30年及以内的部分，使用3.5%的折现率\n",
    "            discount_factor = (1 + 0.035) ** years_diff\n",
    "        else:\n",
    "            # 对于超过30年的部分，前30年使用3.5%，之后使用3%\n",
    "            discount_factor_30 = (1 + 0.035) ** 30\n",
    "            discount_factor_after_30 = (1 + 0.03) ** (years_diff - 30)\n",
    "            discount_factor = discount_factor_30 * discount_factor_after_30\n",
    "        \n",
    "        discount_value += value / discount_factor  # 将该年的收益折现到2030年的价值，并累加到总值中\n",
    "    \n",
    "    return discount_value\n",
    "\n",
    "print(discount_to_2030(user_benefit_A_work_high, 2060))"
   ]
  },
  {
   "cell_type": "markdown",
   "metadata": {},
   "source": [
    "下面考虑将非工作燃料成本的ROH"
   ]
  },
  {
   "cell_type": "code",
   "execution_count": 325,
   "metadata": {},
   "outputs": [],
   "source": [
    "GC_O_non_work_fuel = {}\n",
    "GC_A_non_work_fuel = {}\n",
    "GC_A_O_non_work_fuel = {}\n",
    "GC_B_non_work_fuel = {}\n",
    "GC_B_O_non_work_fuel = {}\n",
    "\n",
    "for year in range(2031, 2091):\n",
    "    GC_O_non_work_fuel[year] = GC_for_journey_time_O[year] + GC_for_fuel_cost_O[year] / 100\n",
    "    GC_A_non_work_fuel[year] = GC_for_journey_time_A[year] + GC_for_fuel_cost_A[year] / 100\n",
    "    GC_A_O_non_work_fuel[year] = GC_for_journey_time_A_O[year] + GC_for_fuel_cost_A[year] / 100\n",
    "    GC_B_non_work_fuel[year] = GC_for_journey_time_B[year] + GC_for_fuel_cost_B[year] / 100\n",
    "    GC_B_O_non_work_fuel[year] = GC_for_journey_time_B_O[year] + GC_for_fuel_cost_B[year] / 100\n",
    "\n",
    "user_benefit_A_non_work_low = {}\n",
    "user_benefit_A_non_work_high = {}\n",
    "user_benefit_B_non_work_low = {}\n",
    "user_benefit_B_non_work_high = {}\n",
    "\n",
    "for year in range(2031, 2091):\n",
    "    user_benefit_A_non_work_low[year] = get_ROH(GC_A_non_work_fuel[year], GC_A_O_non_work_fuel[year], GC_O_non_work_fuel[year], 0.947 * AADT__A_dict_low[year], 0.947 * AADT__A_O_dict_low[year], 0.947 * AADT__O_dict_low[year])\n",
    "    user_benefit_A_non_work_high[year] = get_ROH(GC_A_non_work_fuel[year], GC_A_O_non_work_fuel[year], GC_O_non_work_fuel[year], 0.947 * AADT__A_dict_high[year], 0.947 * AADT__A_O_dict_high[year], 0.947 * AADT__O_dict_high[year])\n",
    "    user_benefit_B_non_work_low[year] = get_ROH(GC_B_non_work_fuel[year], GC_B_O_non_work_fuel[year], GC_O_non_work_fuel[year], 0.947 * AADT__B_dict_low[year], 0.947 * AADT__B_O_dict_low[year], 0.947 * AADT__O_dict_low[year])\n",
    "    user_benefit_B_non_work_high[year] = get_ROH(GC_B_non_work_fuel[year], GC_B_O_non_work_fuel[year], GC_O_non_work_fuel[year], 0.947 * AADT__B_dict_high[year], 0.947 * AADT__B_O_dict_high[year], 0.947 * AADT__O_dict_high[year])\n",
    "    \n",
    "    "
   ]
  },
  {
   "cell_type": "markdown",
   "metadata": {},
   "source": [
    "下面计算非工作非燃料的净收益"
   ]
  },
  {
   "cell_type": "code",
   "execution_count": 326,
   "metadata": {},
   "outputs": [],
   "source": [
    "user_benefit_non_work_non_fuel_A_low = {}\n",
    "user_benefit_non_work_non_fuel_A_high = {}\n",
    "user_benefit_non_work_non_fuel_B_low = {}\n",
    "user_benefit_non_work_non_fuel_B_high = {}\n",
    "\n",
    "for year in range(2031, 2091):\n",
    "    user_benefit_non_work_non_fuel_A_low[year] = (GC_for_non_fuel_non_Work_A / 100 * AADT__A_dict_low[year]  + GC_for_non_fuel_non_Work_A_O / 100 * AADT__A_O_dict_low[year] \\\n",
    "                                                - GC_for_non_fuel_non_Work_O / 100 * AADT__O_dict_low[year]) * 365.25 \n",
    "    user_benefit_non_work_non_fuel_B_low[year] = (GC_for_non_fuel_non_Work_B / 100 * AADT__B_dict_low[year]  + GC_for_non_fuel_non_Work_B_O / 100 * AADT__B_O_dict_low[year] \\\n",
    "                                                - GC_for_non_fuel_non_Work_O / 100 * AADT__O_dict_low[year]) * 365.25\n",
    "    user_benefit_non_work_non_fuel_A_high[year] = (GC_for_non_fuel_non_Work_A / 100 * AADT__A_dict_high[year]  + GC_for_non_fuel_non_Work_A_O / 100 * AADT__A_O_dict_high[year] \\\n",
    "                                                - GC_for_non_fuel_non_Work_O / 100 * AADT__O_dict_high[year]) * 365.25\n",
    "    user_benefit_non_work_non_fuel_B_high[year] = (GC_for_non_fuel_non_Work_B / 100 * AADT__B_dict_high[year]  + GC_for_non_fuel_non_Work_B_O / 100 * AADT__B_O_dict_high[year] \\\n",
    "                                                - GC_for_non_fuel_non_Work_O / 100 * AADT__O_dict_high[year]) * 365.25\n",
    "\n"
   ]
  },
  {
   "cell_type": "markdown",
   "metadata": {},
   "source": [
    "下面计算税收的损失，使用二分之一法则整合到前面计算的收益中（算作收益的损失而非成本）"
   ]
  },
  {
   "cell_type": "code",
   "execution_count": 327,
   "metadata": {},
   "outputs": [],
   "source": [
    "t = 0.19\n",
    "tf1 = 0\n",
    "tf = 0.05\n",
    "tn1 = 0\n",
    "tn = 0.19\n",
    "# formula in A.5\n",
    "def calculate_tax(type, ROH_fuel, ROH_non_fuel):\n",
    "    # 0 for non-work, 1 for work\n",
    "    if type == 1:\n",
    "        return ROH_fuel * tf1 * (1 + t) / (1 + tf1) + ROH_non_fuel * tn1 * (1 + t) / (1 + tn1)\n",
    "    elif type == 0:\n",
    "        return ROH_fuel * tf * (tf -t) / (1 + tf) + ROH_non_fuel * tn * (tn - t) / (1 + tn)\n",
    "    \n",
    "\n",
    "\n"
   ]
  },
  {
   "cell_type": "code",
   "execution_count": 328,
   "metadata": {},
   "outputs": [],
   "source": [
    "F_work_A_low = {}\n",
    "F_work_A_high = {}\n",
    "F_work_B_low = {}\n",
    "F_work_B_high = {}\n",
    "N_work_A_low ={}\n",
    "N_work_A_high = {}\n",
    "N_work_B_low = {}\n",
    "N_work_B_high = {}\n",
    "F_non_work_A_low = {}\n",
    "F_non_work_A_high = {}\n",
    "F_non_work_B_low = {}\n",
    "F_non_work_B_high = {}\n",
    "N_non_work_A_low = {}\n",
    "N_non_work_A_high = {}\n",
    "N_non_work_B_low = {}\n",
    "N_non_work_B_high = {}\n",
    "for year in range(2031, 2091):\n",
    "    F_work_A_low[year] = get_ROH(GC_for_fuel_cost_A[year], GC_for_fuel_cost_O[year], GC_for_fuel_cost_O[year], 0.053 * AADT__A_dict_low[year], 0.053 * AADT__A_O_dict_low[year], 0.053 * AADT__O_dict_low[year])\n",
    "    F_work_A_high[year] = get_ROH(GC_for_fuel_cost_A[year], GC_for_fuel_cost_O[year], GC_for_fuel_cost_O[year], 0.053 * AADT__A_dict_high[year], 0.053 * AADT__A_O_dict_high[year], 0.053 * AADT__O_dict_high[year])\n",
    "    F_work_B_low[year] = get_ROH(GC_for_fuel_cost_B[year], GC_for_fuel_cost_O[year], GC_for_fuel_cost_O[year], 0.053 * AADT__B_dict_low[year], 0.053 * AADT__B_O_dict_low[year], 0.053 * AADT__O_dict_low[year])\n",
    "    F_work_B_high[year] = get_ROH(GC_for_fuel_cost_B[year], GC_for_fuel_cost_O[year], GC_for_fuel_cost_O[year], 0.053 * AADT__B_dict_high[year], 0.053 * AADT__B_O_dict_high[year], 0.053 * AADT__O_dict_high[year])\n",
    "    N_work_A_low[year] = get_ROH(GC_for_non_fuel_work_A, GC_for_non_fuel_work_A_O, GC_for_non_fuel_work_O, 0.053 * AADT__A_dict_low[year], 0.053 * AADT__A_O_dict_low[year], 0.053 * AADT__O_dict_low[year])\n",
    "    N_work_A_high[year] = get_ROH(GC_for_non_fuel_work_A, GC_for_non_fuel_work_A_O, GC_for_non_fuel_work_O, 0.053 * AADT__A_dict_high[year], 0.053 * AADT__A_O_dict_high[year], 0.053 * AADT__O_dict_high[year])\n",
    "    N_work_B_low[year] = get_ROH(GC_for_non_fuel_work_B, GC_for_non_fuel_work_B_O, GC_for_non_fuel_work_O, 0.053 * AADT__B_dict_low[year], 0.053 * AADT__B_O_dict_low[year], 0.053 * AADT__O_dict_low[year])\n",
    "    N_work_B_high[year] = get_ROH(GC_for_non_fuel_work_B, GC_for_non_fuel_work_B_O, GC_for_non_fuel_work_O, 0.053 * AADT__B_dict_high[year], 0.053 * AADT__B_O_dict_high[year], 0.053 * AADT__O_dict_high[year])\n",
    "    F_non_work_A_low[year] = get_ROH(GC_for_fuel_cost_A[year], GC_for_fuel_cost_O[year], GC_for_fuel_cost_O[year], 0.947 * AADT__A_dict_low[year], 0.947 * AADT__A_O_dict_low[year], 0.947 * AADT__O_dict_low[year])\n",
    "    F_non_work_A_high[year] = get_ROH(GC_for_fuel_cost_A[year], GC_for_fuel_cost_O[year], GC_for_fuel_cost_O[year], 0.947 * AADT__A_dict_high[year], 0.947 * AADT__A_O_dict_high[year], 0.947 * AADT__O_dict_high[year])\n",
    "    F_non_work_B_low[year] = get_ROH(GC_for_fuel_cost_B[year], GC_for_fuel_cost_O[year], GC_for_fuel_cost_O[year], 0.947 * AADT__B_dict_low[year], 0.947 * AADT__B_O_dict_low[year], 0.947 * AADT__O_dict_low[year])\n",
    "    F_non_work_B_high[year] = get_ROH(GC_for_fuel_cost_B[year], GC_for_fuel_cost_O[year], GC_for_fuel_cost_O[year], 0.947 * AADT__B_dict_high[year], 0.947 * AADT__B_O_dict_high[year], 0.947 * AADT__O_dict_high[year])\n",
    "    N_non_work_A_low[year] = get_ROH(GC_for_non_fuel_non_Work_A, GC_for_non_fuel_non_Work_A_O, GC_for_non_fuel_non_Work_O, 0.947 * AADT__A_dict_low[year], 0.947 * AADT__A_O_dict_low[year], 0.947 * AADT__O_dict_low[year])\n",
    "    N_non_work_A_high[year] = get_ROH(GC_for_non_fuel_non_Work_A, GC_for_non_fuel_non_Work_A_O, GC_for_non_fuel_non_Work_O, 0.947 * AADT__A_dict_high[year], 0.947 * AADT__A_O_dict_high[year], 0.947 * AADT__O_dict_high[year])\n",
    "    N_non_work_B_low[year] = get_ROH(GC_for_non_fuel_non_Work_B, GC_for_non_fuel_non_Work_B_O, GC_for_non_fuel_non_Work_O, 0.947 * AADT__B_dict_low[year], 0.947 * AADT__B_O_dict_low[year], 0.947 * AADT__O_dict_low[year])\n",
    "    N_non_work_B_high[year] = get_ROH(GC_for_non_fuel_non_Work_B, GC_for_non_fuel_non_Work_B_O, GC_for_non_fuel_non_Work_O, 0.947 * AADT__B_dict_high[year], 0.947 * AADT__B_O_dict_high[year], 0.947 * AADT__O_dict_high[year])\n"
   ]
  },
  {
   "cell_type": "code",
   "execution_count": 329,
   "metadata": {},
   "outputs": [],
   "source": [
    "# 计算间接税\n",
    "indirect_tax_A_low = {}\n",
    "indirect_tax_A_high = {}\n",
    "indirect_tax_B_low = {}\n",
    "indirect_tax_B_high = {}\n",
    "for year in range(2031, 2091):\n",
    "    indirect_tax_A_low[year] = calculate_tax(1, F_work_A_low[year], N_work_A_low[year]) + calculate_tax(0, F_non_work_A_low[year], N_non_work_A_low[year])\n",
    "    indirect_tax_A_high[year] = calculate_tax(1, F_work_A_high[year], N_work_A_high[year]) + calculate_tax(0, F_non_work_A_high[year], N_non_work_A_high[year])\n",
    "    indirect_tax_B_low[year] = calculate_tax(1, F_work_B_low[year], N_work_B_low[year]) + calculate_tax(0, F_non_work_B_low[year], N_non_work_B_low[year])\n",
    "    indirect_tax_B_high[year] = calculate_tax(1, F_work_B_high[year], N_work_B_high[year]) + calculate_tax(0, F_non_work_B_high[year], N_non_work_B_high[year])\n"
   ]
  },
  {
   "cell_type": "markdown",
   "metadata": {},
   "source": [
    "下一步考虑温室气体效应，选用市场价格，仍然使用半数法算出效益；其实这里算作负效应还是正的支出，是一个值得讨论的话题；\n",
    "假如改成汽油车，这一项估计要爆表了……"
   ]
  },
  {
   "cell_type": "code",
   "execution_count": 330,
   "metadata": {},
   "outputs": [],
   "source": [
    "\n",
    "GC_emission_A = {}\n",
    "GC_emission_B = {}\n",
    "GC_emission_O = {}\n",
    "for year in range(2031, 2091):\n",
    "    GC_emission_A[year] = emission_factor[year] * money_value_of_emission[year] * fuel_effieciency[year] * road_length__A * 1.5893 / 1000\n",
    "    GC_emission_B[year] = emission_factor[year] * money_value_of_emission[year] * fuel_effieciency[year] * road_length_B * 1.5893 / 1000\n",
    "    GC_emission_O[year] = emission_factor[year] * money_value_of_emission[year] * fuel_effieciency[year] * road_length__O * 1.5893 / 1000\n",
    "\n",
    "user_benefit_A_emission_low = {}\n",
    "user_benefit_A_emission_high = {}\n",
    "user_benefit_B_emission_low = {}\n",
    "user_benefit_B_emission_high = {}\n",
    "for year in range(2031, 2091):\n",
    "    user_benefit_A_emission_low[year] = get_ROH(GC_emission_A[year], GC_emission_O[year], GC_emission_O[year],  AADT__A_dict_low[year],  AADT__A_O_dict_low[year],  AADT__O_dict_low[year])\n",
    "    user_benefit_A_emission_high[year] = get_ROH(GC_emission_A[year], GC_emission_O[year], GC_emission_O[year],  AADT__A_dict_high[year],  AADT__A_O_dict_high[year],  AADT__O_dict_high[year])\n",
    "    user_benefit_B_emission_low[year] = get_ROH(GC_emission_B[year], GC_emission_O[year], GC_emission_O[year],  AADT__B_dict_low[year],  AADT__B_O_dict_low[year],  AADT__O_dict_low[year])\n",
    "    user_benefit_B_emission_high[year] = get_ROH(GC_emission_B[year], GC_emission_O[year], GC_emission_O[year],  AADT__B_dict_high[year],  AADT__B_O_dict_high[year],  AADT__O_dict_high[year])\n",
    "\n",
    "\n",
    "\n"
   ]
  },
  {
   "cell_type": "markdown",
   "metadata": {},
   "source": [
    "最后一步，成本（建设和维护），我决定上面的都算是收益，哪怕是负收益"
   ]
  },
  {
   "cell_type": "code",
   "execution_count": 331,
   "metadata": {},
   "outputs": [],
   "source": [
    "maintainance_cost_A_2030 = maintainance_cost_A * 1.5893\n",
    "maintainance_cost_B_2030 = maintenance_cost__B * 1.5893\n",
    "maintainance_cost_A_dict = {}\n",
    "maintainance_cost_B_dict = {}\n",
    "for year in range(2031, 2091):\n",
    "    maintainance_cost_A_dict[year] = maintainance_cost_A_2030\n",
    "    maintainance_cost_B_dict[year] = maintainance_cost_B_2030\n",
    "\n",
    "construction_cost__A_2030 = construction_cost__A /2 * (1 + 1.035) * 1.5893\n",
    "construction_cost__B_2030 = construction_cost__B /2 * (1 + 1.035) * 1.5893\n",
    "\n"
   ]
  },
  {
   "cell_type": "markdown",
   "metadata": {},
   "source": [
    "整合各部分成本和收益"
   ]
  },
  {
   "cell_type": "code",
   "execution_count": 332,
   "metadata": {},
   "outputs": [],
   "source": [
    "'''\n",
    "1. 用半数法的部分\n",
    "benefit_travel_time ... GC_for_journey_time\n",
    "benefit_vehicle_operating_cost ... GC_for_fuel_cost, GC_for_non_fuel_work\n",
    "benefit_emission ... GC_emission\n",
    "GC_total_A_low = GC_for_journey_time_A + GC_for_fuel_cost_A + GC_emission_A + 0.053 * GC_for_non_fuel_non_work_A\n",
    "\n",
    "2. 用复杂公式的部分，也用了半数法\n",
    "benefit_indirect_tax ... indirect_tax_A, indirect_tax_B\n",
    "3. 用净收益的部分\n",
    "non_fuel_non_work ... GC_for_non_fuel_non_Work\n",
    "'''\n",
    "benefit_A_low = discount_to_2030(user_benefit_A_work_low, 2090) + discount_to_2030(user_benefit_A_non_work_low, 2090) + discount_to_2030(user_benefit_non_work_non_fuel_A_low, 2090) + discount_to_2030(user_benefit_A_emission_low, 2090) - discount_to_2030(indirect_tax_A_low, 2090)\n",
    "benefit_A_high = discount_to_2030(user_benefit_A_work_high, 2090) + discount_to_2030(user_benefit_A_non_work_high, 2090) + discount_to_2030(user_benefit_non_work_non_fuel_A_high, 2090) + discount_to_2030(user_benefit_A_emission_high, 2090) - discount_to_2030(indirect_tax_A_high, 2090)\n",
    "cost_A = construction_cost__A_2030 + discount_to_2030(maintainance_cost_A_dict, 2090)\n",
    "benefit_B_low = discount_to_2030(user_benefit_B_work_low, 2090) + discount_to_2030(user_benefit_B_non_work_low, 2090) + discount_to_2030(user_benefit_non_work_non_fuel_B_low, 2090) + discount_to_2030(user_benefit_B_emission_low, 2090) - discount_to_2030(indirect_tax_B_low, 2090)\n",
    "benefit_B_high = discount_to_2030(user_benefit_B_work_high, 2090) + discount_to_2030(user_benefit_B_non_work_high, 2090) + discount_to_2030(user_benefit_non_work_non_fuel_B_high, 2090) + discount_to_2030(user_benefit_B_emission_high, 2090) - discount_to_2030(indirect_tax_B_high, 2090)\n",
    "cost_B = construction_cost__B_2030 + discount_to_2030(maintainance_cost_B_dict, 2090)\n",
    "benefits_A_low = {}\n",
    "benefits_A_high = {}\n",
    "benefits_B_low = {}\n",
    "benefits_B_high = {}\n",
    "for year in range(2031, 2091):\n",
    "    benefits_A_low[year] = discount_to_2030(user_benefit_A_work_low, year) + discount_to_2030(user_benefit_A_non_work_low, year) + discount_to_2030(user_benefit_non_work_non_fuel_A_low, year) + discount_to_2030(user_benefit_A_emission_low, year) - discount_to_2030(indirect_tax_A_low, year)\n",
    "    benefits_A_high[year] = discount_to_2030(user_benefit_A_work_high, year) + discount_to_2030(user_benefit_A_non_work_high, year) + discount_to_2030(user_benefit_non_work_non_fuel_A_high, year) + discount_to_2030(user_benefit_A_emission_high, year) - discount_to_2030(indirect_tax_A_high, year)\n",
    "    benefits_B_low[year] = discount_to_2030(user_benefit_B_work_low, year) + discount_to_2030(user_benefit_B_non_work_low, year) + discount_to_2030(user_benefit_non_work_non_fuel_B_low, year) + discount_to_2030(user_benefit_B_emission_low, year) - discount_to_2030(indirect_tax_B_low, year)\n",
    "    benefits_B_high[year] = discount_to_2030(user_benefit_B_work_high, year) + discount_to_2030(user_benefit_B_non_work_high, year) + discount_to_2030(user_benefit_non_work_non_fuel_B_high, year) + discount_to_2030(user_benefit_B_emission_high, year) - discount_to_2030(indirect_tax_B_high, year)\n",
    "    \n"
   ]
  },
  {
   "cell_type": "markdown",
   "metadata": {},
   "source": [
    "PVB, PVC"
   ]
  },
  {
   "cell_type": "code",
   "execution_count": 333,
   "metadata": {},
   "outputs": [
    {
     "name": "stdout",
     "output_type": "stream",
     "text": [
      "     PVB_A_low:   369978597.76\n",
      "    PVB_A_high:   431038028.52\n",
      "     PVB_B_low:   237714693.29\n",
      "    PVB_B_high:   277405907.31\n",
      "     PVC_A_low:    90403289.00\n",
      "    PVC_A_high:    90403289.00\n",
      "     PVC_B_low:    77403289.00\n",
      "    PVC_B_high:    77403289.00\n"
     ]
    }
   ],
   "source": [
    "PVB_A_low = benefit_A_low\n",
    "PVB_A_high = benefit_A_high\n",
    "PVB_B_low = benefit_B_low\n",
    "PVB_B_high = benefit_B_high\n",
    "PVC_A_low = cost_A\n",
    "PVC_A_high = cost_A\n",
    "PVC_B_low = cost_B\n",
    "PVC_B_high = cost_B\n",
    "\n",
    "print(f\"{'PVB_A_low:':>15}{PVB_A_low:>15.2f}\")\n",
    "print(f\"{'PVB_A_high:':>15}{PVB_A_high:>15.2f}\")\n",
    "print(f\"{'PVB_B_low:':>15}{PVB_B_low:>15.2f}\")\n",
    "print(f\"{'PVB_B_high:':>15}{PVB_B_high:>15.2f}\")\n",
    "print(f\"{'PVC_A_low:':>15}{PVC_A_low:>15.2f}\")\n",
    "print(f\"{'PVC_A_high:':>15}{PVC_A_high:>15.2f}\")\n",
    "print(f\"{'PVC_B_low:':>15}{PVC_B_low:>15.2f}\")\n",
    "print(f\"{'PVC_B_high:':>15}{PVC_B_high:>15.2f}\")\n",
    "\n",
    "\n"
   ]
  },
  {
   "cell_type": "markdown",
   "metadata": {},
   "source": [
    "NPV"
   ]
  },
  {
   "cell_type": "code",
   "execution_count": 334,
   "metadata": {},
   "outputs": [
    {
     "name": "stdout",
     "output_type": "stream",
     "text": [
      "     NPV_A_low:   279575308.76\n",
      "    NPV_A_high:   340634739.52\n",
      "     NPV_B_low:   160311404.29\n",
      "    NPV_B_high:   200002618.31\n"
     ]
    }
   ],
   "source": [
    "NPV_A_low = benefit_A_low - cost_A\n",
    "NPV_A_high = benefit_A_high - cost_A\n",
    "NPV_B_low = benefit_B_low - cost_B\n",
    "NPV_B_high = benefit_B_high - cost_B\n",
    "# 格式化构成结果的各项和结果,数值靠右对齐\n",
    "print(f\"{'NPV_A_low:':>15}{NPV_A_low:>15.2f}\")\n",
    "print(f\"{'NPV_A_high:':>15}{NPV_A_high:>15.2f}\")\n",
    "print(f\"{'NPV_B_low:':>15}{NPV_B_low:>15.2f}\")\n",
    "print(f\"{'NPV_B_high:':>15}{NPV_B_high:>15.2f}\")\n"
   ]
  },
  {
   "cell_type": "markdown",
   "metadata": {},
   "source": [
    "BCR"
   ]
  },
  {
   "cell_type": "code",
   "execution_count": 335,
   "metadata": {},
   "outputs": [
    {
     "name": "stdout",
     "output_type": "stream",
     "text": [
      "     BCR_A_low:            4.09\n",
      "    BCR_A_high:            4.77\n",
      "     BCR_B_low:            3.07\n",
      "    BCR_B_high:            3.58\n"
     ]
    }
   ],
   "source": [
    "BCR_A_low = benefit_A_low / cost_A\n",
    "BCR_A_high = benefit_A_high / cost_A\n",
    "BCR_B_low = benefit_B_low / cost_B\n",
    "BCR_B_high = benefit_B_high / cost_B\n",
    "print(f\"{'BCR_A_low:':>15} {BCR_A_low:>15.2f}\")\n",
    "print(f\"{'BCR_A_high:':>15} {BCR_A_high:>15.2f}\")\n",
    "print(f\"{'BCR_B_low:':>15} {BCR_B_low:>15.2f}\")\n",
    "print(f\"{'BCR_B_high:':>15} {BCR_B_high:>15.2f}\")"
   ]
  },
  {
   "cell_type": "markdown",
   "metadata": {},
   "source": [
    "IRR，使用numpy_financial包"
   ]
  },
  {
   "cell_type": "code",
   "execution_count": 336,
   "metadata": {},
   "outputs": [
    {
     "name": "stdout",
     "output_type": "stream",
     "text": [
      "     IRR_A_low:          34.86%\n",
      "    IRR_A_high:          35.50%\n",
      "     IRR_B_low:          28.43%\n",
      "    IRR_B_high:          29.03%\n"
     ]
    }
   ],
   "source": [
    "import numpy_financial as npf\n",
    "\n",
    "cash_flows_A_low = [-construction_cost__A] + [benefits_A_low[year] - maintainance_cost_A_dict[year] for year in range(2031, 2091)]\n",
    "cash_flows_A_high = [-construction_cost__A] + [benefits_A_high[year] - maintainance_cost_A_dict[year] for year in range(2031, 2091)]\n",
    "cash_flows_B_low = [-construction_cost__B] + [benefits_B_low[year] - maintainance_cost_B_dict[year] for year in range(2031, 2091)]\n",
    "cash_flows_B_high = [-construction_cost__B] + [benefits_B_high[year] - maintainance_cost_B_dict[year] for year in range(2031, 2091)]\n",
    "\n",
    "irr_flows_A_low = npf.irr(cash_flows_A_low)\n",
    "irr_flows_A_high = npf.irr(cash_flows_A_high)\n",
    "irr_flows_B_low = npf.irr(cash_flows_B_low)\n",
    "irr_flows_B_high = npf.irr(cash_flows_B_high)\n",
    "\n",
    "print(f\"{'IRR_A_low:':>15} {irr_flows_A_low:>15.2%}\")\n",
    "print(f\"{'IRR_A_high:':>15} {irr_flows_A_high:>15.2%}\")\n",
    "print(f\"{'IRR_B_low:':>15} {irr_flows_B_low:>15.2%}\")\n",
    "print(f\"{'IRR_B_high:':>15} {irr_flows_B_high:>15.2%}\")\n"
   ]
  },
  {
   "cell_type": "markdown",
   "metadata": {},
   "source": [
    "Payback_Period"
   ]
  },
  {
   "cell_type": "code",
   "execution_count": 337,
   "metadata": {},
   "outputs": [
    {
     "name": "stdout",
     "output_type": "stream",
     "text": [
      "Payback_Period_A_low: 2034\n",
      "Payback_Period_A_high: 2034\n",
      "Payback_Period_B_low: 2035\n",
      "Payback_Period_B_high: 2035\n"
     ]
    }
   ],
   "source": [
    "def calculate_Payback_Period(benefits, costs, constant_cost):\n",
    "    for year in range(2031, 2091):\n",
    "        total_benefit = discount_to_2030(benefits, year)\n",
    "        total_cost = discount_to_2030(costs, year) + constant_cost\n",
    "        if total_benefit > total_cost:\n",
    "            return year - 1\n",
    "\n",
    "Payback_Period_A_low = calculate_Payback_Period(benefits_A_low, maintainance_cost_A_dict, construction_cost__A)\n",
    "Payback_Period_A_high = calculate_Payback_Period(benefits_A_high, maintainance_cost_A_dict, construction_cost__A)\n",
    "Payback_Period_B_low = calculate_Payback_Period(benefits_B_low, maintainance_cost_B_dict, construction_cost__B)\n",
    "Payback_Period_B_high = calculate_Payback_Period(benefits_B_high, maintainance_cost_B_dict, construction_cost__B)\n",
    "print('Payback_Period_A_low:', Payback_Period_A_low)\n",
    "print('Payback_Period_A_high:', Payback_Period_A_high)\n",
    "print('Payback_Period_B_low:', Payback_Period_B_low)\n",
    "print('Payback_Period_B_high:', Payback_Period_B_high)"
   ]
  },
  {
   "cell_type": "markdown",
   "metadata": {},
   "source": [
    "现在做一个汇总表，因为如果表格太大的话不好放入到文档中，因此，分几部分来输出，AADT，GC_journey_time, GC_VOC , C_non_fuel_non_work, GC_emission, indirect tax,  GC和一半法则之后得到的结果一并放入"
   ]
  },
  {
   "cell_type": "code",
   "execution_count": 338,
   "metadata": {},
   "outputs": [],
   "source": [
    "import pandas as pd\n",
    "\n",
    "# 初始化DataFrame\n",
    "years = sorted(list(benefits_A_low.keys()))\n",
    "df = pd.DataFrame(index=years)\n",
    "\n",
    "# 用户利益数据（避免重复赋值，直接在创建时填充）\n",
    "df_benefit_VOC = pd.DataFrame(index=df.index)\n",
    "df_benefit_VOC['VOC_benefit_A_work_low'] = df.index.map(user_benefit_A_work_low)\n",
    "df_benefit_VOC['VOC_benefit_A_work_high'] = df.index.map(user_benefit_A_work_high)\n",
    "df_benefit_VOC['VOC_benefit_B_work_low'] = df.index.map(user_benefit_B_work_low)\n",
    "df_benefit_VOC['VOC_benefit_B_work_high'] = df.index.map(user_benefit_B_work_high)\n",
    "df_benefit_VOC['VOC_benefit_A_non_work_low'] = df.index.map(user_benefit_A_non_work_low)\n",
    "df_benefit_VOC['VOC_benefit_A_non_work_high'] = df.index.map(user_benefit_A_non_work_high)\n",
    "df_benefit_VOC['VOC_benefit_B_non_work_low'] = df.index.map(user_benefit_B_non_work_low)\n",
    "df_benefit_VOC['VOC_benefit_B_non_work_high'] = df.index.map(user_benefit_B_non_work_high)\n",
    "df_benefit_VOC['VOC_beneift_non_fuel_non_work_A_low'] = df.index.map(user_benefit_non_work_non_fuel_A_low)\n",
    "df_benefit_VOC['VOC_beneift_non_fuel_non_work_A_high'] = df.index.map(user_benefit_non_work_non_fuel_A_high)\n",
    "df_benefit_VOC['VOC_beneift_non_fuel_non_work_B_low'] = df.index.map(user_benefit_non_work_non_fuel_B_low)\n",
    "df_benefit_VOC['VOC_beneift_non_fuel_non_work_B_high'] = df.index.map(user_benefit_non_work_non_fuel_B_high)\n",
    "df_benefit_emission = pd.DataFrame(index=df.index)\n",
    "df_benefit_emission['emission_benefit_A_low'] = df.index.map(user_benefit_A_emission_low)\n",
    "df_benefit_emission['emission_benefit_A_high'] = df.index.map(user_benefit_A_emission_high)\n",
    "df_benefit_emission['emission_benefit_B_low'] = df.index.map(user_benefit_B_emission_low)\n",
    "df_benefit_emission['emission_benefit_B_high'] = df.index.map(user_benefit_B_emission_high)\n",
    "df_benefit_indirect_tax = pd.DataFrame(index=df.index)\n",
    "df_benefit_indirect_tax['indirect_tax_benefit_A_low'] = df.index.map(indirect_tax_A_low)\n",
    "df_benefit_indirect_tax['indirect_tax_benefit_A_high'] = df.index.map(indirect_tax_A_high)\n",
    "df_benefit_indirect_tax['indirect_tax_benefit_B_low'] = df.index.map(indirect_tax_B_low)\n",
    "df_benefit_indirect_tax['indirect_tax_benefit_B_high'] = df.index.map(indirect_tax_B_high)\n",
    "\n",
    "\n",
    "# 其他数据可以以类似的方式创建专门的DataFrame\n",
    "df_cost = pd.DataFrame(index=df.index)\n",
    "df_cost['construction_cost__A'] = construction_cost__A\n",
    "df_cost['construction_cost__B'] = construction_cost__B \n",
    "df_cost['maintainance_cost_A'] = df.index.map(maintainance_cost_A_dict)\n",
    "df_cost['maintainance_cost_B'] = df.index.map(maintainance_cost_B_dict)\n",
    "\n",
    "\n",
    "# 注意：每个专门的DataFrame（例如df_AADT, df_GC, df_benefit等）可以根据需求单独保存或处理\n",
    "\n",
    "\n",
    "\n"
   ]
  },
  {
   "cell_type": "code",
   "execution_count": 339,
   "metadata": {},
   "outputs": [],
   "source": [
    "# Excel文件路径\n",
    "excel_path = 'output_data.xlsx'\n",
    "\n",
    "# 使用ExcelWriter将DataFrame写入不同的工作表\n",
    "with pd.ExcelWriter(excel_path, engine='openpyxl', mode='w') as writer:\n",
    "    df_benefit_VOC.to_excel(writer, sheet_name='VOC Benefit Data', index=True)\n",
    "    df_benefit_emission.to_excel(writer, sheet_name='Emission Benefit Data', index=True)\n",
    "    df_benefit_indirect_tax.to_excel(writer, sheet_name='Indirect Tax Benefit Data', index=True)\n",
    "    df_cost.to_excel(writer, sheet_name='Cost Data', index=True)\n",
    "\n",
    "    \n"
   ]
  },
  {
   "cell_type": "markdown",
   "metadata": {},
   "source": [
    "调整下列宽"
   ]
  },
  {
   "cell_type": "code",
   "execution_count": 340,
   "metadata": {},
   "outputs": [],
   "source": [
    "import pandas as pd\n",
    "from openpyxl.utils import get_column_letter\n",
    "\n",
    "excel_path = 'output_data.xlsx'\n",
    "with pd.ExcelWriter(excel_path, engine='openpyxl', mode='w') as writer:\n",
    "    df_benefit_VOC.to_excel(writer, sheet_name='VOC Benefit Data', index=True)\n",
    "    df_benefit_emission.to_excel(writer, sheet_name='Emission Benefit Data', index=True)\n",
    "    df_benefit_indirect_tax.to_excel(writer, sheet_name='Indirect Tax Benefit Data', index=True)\n",
    "    df_cost.to_excel(writer, sheet_name='Cost Data', index=True)\n",
    "\n",
    "    workbook = writer.book\n",
    "    worksheet = workbook['VOC Benefit Data']\n",
    "    for col in worksheet.columns:\n",
    "        worksheet.column_dimensions[get_column_letter(col[0].column)].width = 40\n",
    "    worksheet = workbook['Emission Benefit Data']\n",
    "    for col in worksheet.columns:\n",
    "        worksheet.column_dimensions[get_column_letter(col[0].column)].width = 40\n",
    "    worksheet = workbook['Indirect Tax Benefit Data']\n",
    "    for col in worksheet.columns:\n",
    "        worksheet.column_dimensions[get_column_letter(col[0].column)].width = 40\n",
    "    worksheet = workbook['Cost Data']\n",
    "    for col in worksheet.columns:\n",
    "        worksheet.column_dimensions[get_column_letter(col[0].column)].width = 40"
   ]
  }
 ],
 "metadata": {
  "kernelspec": {
   "display_name": "base",
   "language": "python",
   "name": "python3"
  },
  "language_info": {
   "codemirror_mode": {
    "name": "ipython",
    "version": 3
   },
   "file_extension": ".py",
   "mimetype": "text/x-python",
   "name": "python",
   "nbconvert_exporter": "python",
   "pygments_lexer": "ipython3",
   "version": "3.10.13"
  }
 },
 "nbformat": 4,
 "nbformat_minor": 2
}
